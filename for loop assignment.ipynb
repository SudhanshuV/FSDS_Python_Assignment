{
 "cells": [
  {
   "cell_type": "code",
   "execution_count": 1,
   "id": "46b8d818",
   "metadata": {},
   "outputs": [],
   "source": [
    "l = [[1,2,3,4] , (2,3,4,5,6) , (3,4,5,6,7) , set([23,4,5,45,4,4,5,45,45,4,5]) , {'k1' :\"sudh\" , \"k2\" : \"ineuron\",\"k3\":\n",
    "            \"kumar\" , 3:6 , 7:8} , [\"ineuron\" , \"data science \"]]"
   ]
  },
  {
   "cell_type": "code",
   "execution_count": 37,
   "id": "22ca79ce",
   "metadata": {},
   "outputs": [
    {
     "data": {
      "text/plain": [
       "'\\nq3 : Try to extract all the list entity \\nq4 : Try to extract all the dict enteties\\nq5 : Try to extract all the tuples entities\\nq6 : Try to extract all the numerical data it may b a part of dict key and values \\nq7 : Try to give summation of all the numeric data \\nq8 : Try to filter out all the odd values out all numeric data which is a part of a list \\nq9 : Try to extract \"ineruon\" out of this data\\nq10 :Try to find out a number of occurances of all the data \\nq11 : Try to find out number of keys in dict element\\nq12 : Try to filter out all the string data \\nq13 : Try to Find  out alphanum in data\\nq14 : Try to find out multiplication of all numeric value in  the individual collection inside dataset \\nq15 : Try to unwrape all the collection inside collection and create a flat list\\n'"
      ]
     },
     "execution_count": 37,
     "metadata": {},
     "output_type": "execute_result"
    }
   ],
   "source": [
    "'''\n",
    "q3 : Try to extract all the list entity \n",
    "q4 : Try to extract all the dict enteties\n",
    "q5 : Try to extract all the tuples entities\n",
    "q6 : Try to extract all the numerical data it may b a part of dict key and values \n",
    "q7 : Try to give summation of all the numeric data \n",
    "q8 : Try to filter out all the odd values out all numeric data which is a part of a list \n",
    "q9 : Try to extract \"ineruon\" out of this data\n",
    "q10 :Try to find out a number of occurances of all the data \n",
    "q11 : Try to find out number of keys in dict element\n",
    "q12 : Try to filter out all the string data \n",
    "q13 : Try to Find  out alphanum in data\n",
    "q14 : Try to find out multiplication of all numeric value in  the individual collection inside dataset \n",
    "q15 : Try to unwrape all the collection inside collection and create a flat list\n",
    "'''"
   ]
  },
  {
   "cell_type": "code",
   "execution_count": 5,
   "id": "b1d63afc",
   "metadata": {},
   "outputs": [
    {
     "name": "stdout",
     "output_type": "stream",
     "text": [
      "[[1, 2, 3, 4], ['ineuron', 'data science ']]\n",
      "[1, 2, 3, 4, 'ineuron', 'data science ']\n"
     ]
    }
   ],
   "source": [
    "#Q3\n",
    "\n",
    "l1=[]\n",
    "l2=[]\n",
    "for i in l:\n",
    "    if type(i)==list:\n",
    "        l1.append(i)\n",
    "        l2.extend(i)\n",
    "print(l1)\n",
    "print(l2)"
   ]
  },
  {
   "cell_type": "code",
   "execution_count": 6,
   "id": "efbd901d",
   "metadata": {},
   "outputs": [
    {
     "name": "stdout",
     "output_type": "stream",
     "text": [
      "[{'k1': 'sudh', 'k2': 'ineuron', 'k3': 'kumar', 3: 6, 7: 8}]\n"
     ]
    }
   ],
   "source": [
    "#q4\n",
    "l1=[]\n",
    "for i in l:\n",
    "    if type(i)==dict:\n",
    "        l1.append(i)\n",
    "print(l1)"
   ]
  },
  {
   "cell_type": "code",
   "execution_count": 8,
   "id": "472f7ebe",
   "metadata": {},
   "outputs": [
    {
     "name": "stdout",
     "output_type": "stream",
     "text": [
      "[(2, 3, 4, 5, 6), (3, 4, 5, 6, 7)]\n",
      "[2, 3, 4, 5, 6, 3, 4, 5, 6, 7]\n"
     ]
    }
   ],
   "source": [
    "#q5\n",
    "\n",
    "l1=[]\n",
    "l2=[]\n",
    "for i in l:\n",
    "    if type(i)==tuple:\n",
    "        l1.append(i)\n",
    "        l2.extend(i)\n",
    "print(l1)\n",
    "print(l2)"
   ]
  },
  {
   "cell_type": "code",
   "execution_count": 10,
   "id": "66f40dde",
   "metadata": {},
   "outputs": [
    {
     "name": "stdout",
     "output_type": "stream",
     "text": [
      "[1, 2, 3, 4, 2, 3, 4, 5, 6, 3, 4, 5, 6, 7, 45, 4, 5, 23, 3, 6, 7, 8]\n"
     ]
    }
   ],
   "source": [
    "#q6\n",
    "\n",
    "l1=[]\n",
    "for i in l:\n",
    "    if type(i)==list or type(i)==tuple or type(i)==set:\n",
    "        for j in i:\n",
    "            if type(j)==int:\n",
    "                l1.append(j)\n",
    "    elif type(i)==dict:\n",
    "        for x,y in i.items():\n",
    "            if type(x)==int:\n",
    "                l1.append(x)\n",
    "            if type(y)==int:\n",
    "                l1.append(y)\n",
    "print(l1)"
   ]
  },
  {
   "cell_type": "code",
   "execution_count": 11,
   "id": "5c15e4e8",
   "metadata": {},
   "outputs": [
    {
     "name": "stdout",
     "output_type": "stream",
     "text": [
      "156\n"
     ]
    }
   ],
   "source": [
    "#q7\n",
    "l1=[]\n",
    "s=0\n",
    "for i in l:\n",
    "    if type(i)==list or type(i)==tuple or type(i)==set:\n",
    "        for j in i:\n",
    "            if type(j)==int:\n",
    "                l1.append(j)\n",
    "    elif type(i)==dict:\n",
    "        for x,y in i.items():\n",
    "            if type(x)==int:\n",
    "                l1.append(x)\n",
    "            if type(y)==int:\n",
    "                l1.append(y)\n",
    "for i in l1:\n",
    "    s=s+i\n",
    "print(s)"
   ]
  },
  {
   "cell_type": "code",
   "execution_count": 12,
   "id": "10663649",
   "metadata": {},
   "outputs": [
    {
     "name": "stdout",
     "output_type": "stream",
     "text": [
      "1\n",
      "3\n",
      "3\n",
      "5\n",
      "3\n",
      "5\n",
      "7\n",
      "45\n",
      "5\n",
      "23\n",
      "3\n",
      "7\n"
     ]
    }
   ],
   "source": [
    "#q8\n",
    "l1=[]\n",
    "s=0\n",
    "for i in l:\n",
    "    if type(i)==list or type(i)==tuple or type(i)==set:\n",
    "        for j in i:\n",
    "            if type(j)==int:\n",
    "                l1.append(j)\n",
    "    elif type(i)==dict:\n",
    "        for x,y in i.items():\n",
    "            if type(x)==int:\n",
    "                l1.append(x)\n",
    "            if type(y)==int:\n",
    "                l1.append(y)\n",
    "for i in l1:\n",
    "    if i%2!=0:\n",
    "        print(i)"
   ]
  },
  {
   "cell_type": "code",
   "execution_count": 16,
   "id": "bd69c50c",
   "metadata": {},
   "outputs": [
    {
     "name": "stdout",
     "output_type": "stream",
     "text": [
      "ineuron\n",
      "ineuron\n"
     ]
    }
   ],
   "source": [
    "#q9\n",
    "for i in l:\n",
    "    if type(i)!=dict:\n",
    "        for j in i:\n",
    "            if type(j)==str and j=='ineuron':\n",
    "                print(j)\n",
    "    if type(i)==dict:\n",
    "        for x,y in i.items():\n",
    "            if type(x)==str or type(y)==str:\n",
    "                if x=='ineuron':\n",
    "                    print(x)\n",
    "                if y=='ineuron':\n",
    "                    print(y)\n",
    "            "
   ]
  },
  {
   "cell_type": "code",
   "execution_count": 18,
   "id": "372e1169",
   "metadata": {},
   "outputs": [
    {
     "name": "stdout",
     "output_type": "stream",
     "text": [
      "sudh occured 1 times\n",
      "1 occured 1 times\n",
      "2 occured 2 times\n",
      "3 occured 4 times\n",
      "4 occured 4 times\n",
      "5 occured 3 times\n",
      "6 occured 3 times\n",
      "7 occured 2 times\n",
      "k3 occured 1 times\n",
      "k1 occured 1 times\n",
      "8 occured 1 times\n",
      "ineuron occured 2 times\n",
      "45 occured 1 times\n",
      "data science  occured 1 times\n",
      "23 occured 1 times\n",
      "kumar occured 1 times\n",
      "k2 occured 1 times\n"
     ]
    }
   ],
   "source": [
    "#q10\n",
    "\n",
    "l1=[]\n",
    "for i in l:\n",
    "    if type(i)==list or type(i)==tuple or type(i)==set:\n",
    "        for j in i:\n",
    "            if type(j)==int or type(j)==str:\n",
    "                l1.append(j)\n",
    "    elif type(i)==dict:\n",
    "        for x,y in i.items():\n",
    "            if type(x)==int or type(x)==str:\n",
    "                l1.append(x)\n",
    "            if type(y)==int or type(y)==str:\n",
    "                l1.append(y)\n",
    "for i in set(l1):\n",
    "    print('{} occured {} times'.format(i,l1.count(i)))"
   ]
  },
  {
   "cell_type": "code",
   "execution_count": 19,
   "id": "c5957aa3",
   "metadata": {},
   "outputs": [
    {
     "name": "stdout",
     "output_type": "stream",
     "text": [
      "5\n"
     ]
    }
   ],
   "source": [
    "#q11\n",
    "c=0\n",
    "for i in l:\n",
    "    if type(i)==dict:\n",
    "        for j in i:\n",
    "            c=c+1\n",
    "print(c)\n",
    "            "
   ]
  },
  {
   "cell_type": "code",
   "execution_count": 20,
   "id": "c4926d60",
   "metadata": {},
   "outputs": [
    {
     "name": "stdout",
     "output_type": "stream",
     "text": [
      "['k1', 'sudh', 'k2', 'ineuron', 'k3', 'kumar', 'ineuron', 'data science ']\n"
     ]
    }
   ],
   "source": [
    "#q12\n",
    "\n",
    "l1=[]\n",
    "for i in l:\n",
    "    if type(i)==list or type(i)==tuple or type(i)==set:\n",
    "        for j in i:\n",
    "            if type(j)==str:\n",
    "                l1.append(j)\n",
    "    elif type(i)==dict:\n",
    "        for x,y in i.items():\n",
    "            if type(x)==str:\n",
    "                l1.append(x)\n",
    "            if type(y)==str:\n",
    "                l1.append(y)\n",
    "print(l1)"
   ]
  },
  {
   "cell_type": "code",
   "execution_count": 25,
   "id": "6bca39a4",
   "metadata": {},
   "outputs": [
    {
     "data": {
      "text/plain": [
       "False"
      ]
     },
     "execution_count": 25,
     "metadata": {},
     "output_type": "execute_result"
    }
   ],
   "source": [
    "'sudhan shu'.isalnum()"
   ]
  },
  {
   "cell_type": "code",
   "execution_count": 23,
   "id": "809e844d",
   "metadata": {},
   "outputs": [
    {
     "data": {
      "text/plain": [
       "True"
      ]
     },
     "execution_count": 23,
     "metadata": {},
     "output_type": "execute_result"
    }
   ],
   "source": [
    "'sudhans324'.isalnum()"
   ]
  },
  {
   "cell_type": "code",
   "execution_count": 27,
   "id": "180eb8c8",
   "metadata": {},
   "outputs": [
    {
     "name": "stdout",
     "output_type": "stream",
     "text": [
      "['k1', 'sudh', 'k2', 'ineuron', 'k3', 'kumar', 'ineuron']\n"
     ]
    }
   ],
   "source": [
    "#q13 alphanum\n",
    "\n",
    "l1=[]\n",
    "for i in l:\n",
    "    if type(i)==list or type(i)==tuple or type(i)==set:\n",
    "        for j in i:\n",
    "            if type(j)!=int:\n",
    "                if j.isalnum():\n",
    "                    l1.append(j)\n",
    "    elif type(i)==dict:\n",
    "        for x,y in i.items():\n",
    "            if type(x)!=int:\n",
    "                if x.isalnum():\n",
    "                    l1.append(x)\n",
    "            if type(y)!=int:\n",
    "                if y.isalnum():\n",
    "                    l1.append(y)\n",
    "print(l1)"
   ]
  },
  {
   "cell_type": "code",
   "execution_count": 32,
   "id": "9e363c95",
   "metadata": {},
   "outputs": [
    {
     "name": "stdout",
     "output_type": "stream",
     "text": [
      "24\n",
      "720\n",
      "2520\n",
      "20700\n",
      "1008\n",
      "1\n"
     ]
    }
   ],
   "source": [
    "#q14 multiplication\n",
    "\n",
    "for i in l:\n",
    "    s=1\n",
    "    if type(i)==list:\n",
    "        for j in i:\n",
    "            if type(j)==int:\n",
    "                s=s*j\n",
    "        print(s)\n",
    "    elif type(i)==tuple:\n",
    "        for j in i:\n",
    "            if type(j)==int:\n",
    "                s=s*j\n",
    "        print(s)\n",
    "    elif type(i)==set:\n",
    "        for j in i:\n",
    "            if type(j)==int:\n",
    "                s=s*j\n",
    "        print(s)\n",
    "    elif type(i)==dict:\n",
    "        for x,y in i.items():\n",
    "            if type(x)==int:\n",
    "                s=s*x\n",
    "            if type(y)==int:\n",
    "                s=s*y\n",
    "        print(s)\n",
    "        "
   ]
  },
  {
   "cell_type": "code",
   "execution_count": 33,
   "id": "8f492b0e",
   "metadata": {},
   "outputs": [
    {
     "data": {
      "text/plain": [
       "[[1, 2, 3, 4],\n",
       " (2, 3, 4, 5, 6),\n",
       " (3, 4, 5, 6, 7),\n",
       " {4, 5, 23, 45},\n",
       " {'k1': 'sudh', 'k2': 'ineuron', 'k3': 'kumar', 3: 6, 7: 8},\n",
       " ['ineuron', 'data science ']]"
      ]
     },
     "execution_count": 33,
     "metadata": {},
     "output_type": "execute_result"
    }
   ],
   "source": [
    "l"
   ]
  },
  {
   "cell_type": "code",
   "execution_count": 34,
   "id": "e9cb14bb",
   "metadata": {},
   "outputs": [
    {
     "data": {
      "text/plain": [
       "1008"
      ]
     },
     "execution_count": 34,
     "metadata": {},
     "output_type": "execute_result"
    }
   ],
   "source": [
    "56*18"
   ]
  },
  {
   "cell_type": "code",
   "execution_count": 36,
   "id": "8e1ae2ad",
   "metadata": {},
   "outputs": [
    {
     "name": "stdout",
     "output_type": "stream",
     "text": [
      "[1, 2, 3, 4, 2, 3, 4, 5, 6, 3, 4, 5, 6, 7, 45, 4, 5, 23, 'k1', 'sudh', 'k2', 'ineuron', 'k3', 'kumar', 3, 6, 7, 8, 'ineuron', 'data science ']\n"
     ]
    }
   ],
   "source": [
    "#q15 last question\n",
    "l1=[]\n",
    "for i in l:\n",
    "    if type(i)!=dict:\n",
    "        for j in i:\n",
    "            l1.append(j)\n",
    "    if type(i)==dict:\n",
    "        for x,y in i.items():\n",
    "            l1.append(x)\n",
    "            l1.append(y)\n"
   ]
  }
 ],
 "metadata": {
  "kernelspec": {
   "display_name": "Python 3 (ipykernel)",
   "language": "python",
   "name": "python3"
  },
  "language_info": {
   "codemirror_mode": {
    "name": "ipython",
    "version": 3
   },
   "file_extension": ".py",
   "mimetype": "text/x-python",
   "name": "python",
   "nbconvert_exporter": "python",
   "pygments_lexer": "ipython3",
   "version": "3.9.12"
  }
 },
 "nbformat": 4,
 "nbformat_minor": 5
}
