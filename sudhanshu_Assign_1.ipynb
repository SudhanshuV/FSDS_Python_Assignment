{
 "cells": [
  {
   "cell_type": "code",
   "execution_count": 2,
   "id": "6a4f3a6a",
   "metadata": {},
   "outputs": [
    {
     "name": "stdout",
     "output_type": "stream",
     "text": [
      "<class 'str'>\n",
      "<class 'float'>\n",
      "<class 'int'>\n"
     ]
    }
   ],
   "source": [
    "*  operator\n",
    "print(type('hello'))\n",
    "print(type(-87.8))\n",
    "-  operator\n",
    "/  operator\n",
    "+  operator\n",
    "print(type(6))"
   ]
  },
  {
   "cell_type": "markdown",
   "id": "33a0c895",
   "metadata": {},
   "source": [
    "**String :**\n",
    "- collection of characters and represented in \"\" or ''.\n",
    "\n",
    "**Variables:**\n",
    "- containers which are capable of storing data."
   ]
  },
  {
   "cell_type": "markdown",
   "id": "52afea8a",
   "metadata": {},
   "source": [
    "**3 different data types**\n",
    "- string : anything which can represented within '' or \"\".\n",
    "- int : numeric data without any fractional data or decimal point.\n",
    "- float : numeric data with fractional values i.e. decimal point. "
   ]
  },
  {
   "cell_type": "markdown",
   "id": "ccb4cf42",
   "metadata": {},
   "source": [
    "**expression**\n",
    "- it consists of operators an operands in an meaning full sense.\n",
    "\n",
    "***process***\n",
    "- to get some useful information upon solving them."
   ]
  },
  {
   "cell_type": "markdown",
   "id": "22a9d720",
   "metadata": {},
   "source": [
    "**Expression***\n",
    "- group of operands and operators.\n",
    "\n",
    "**Statement***\n",
    "- it is a sentence which has some meaning."
   ]
  },
  {
   "cell_type": "code",
   "execution_count": 6,
   "id": "eefd6675",
   "metadata": {},
   "outputs": [
    {
     "name": "stdout",
     "output_type": "stream",
     "text": [
      "22\n",
      "23\n",
      "22\n"
     ]
    }
   ],
   "source": [
    "bacon=22\n",
    "bacon+1    # value not got updated to 'bacon'\n",
    "print(bacon)   \n",
    "print(bacon+1)\n",
    "print(bacon)"
   ]
  },
  {
   "cell_type": "code",
   "execution_count": 7,
   "id": "83394969",
   "metadata": {
    "scrolled": true
   },
   "outputs": [
    {
     "name": "stdout",
     "output_type": "stream",
     "text": [
      "spamspamspam\n",
      "spamspamspam\n"
     ]
    }
   ],
   "source": [
    "print('spam'+'spamspam')\n",
    "print('spam'*3)"
   ]
  },
  {
   "cell_type": "markdown",
   "id": "350add61",
   "metadata": {},
   "source": [
    "**eggs is valid vs 100 is invalid**\n",
    "- it creates an ambiguity for compiler to process further."
   ]
  },
  {
   "cell_type": "markdown",
   "id": "a5ab267c",
   "metadata": {},
   "source": [
    "**funtions are as below**\n",
    "- to integer -----int()\n",
    "- to floating point number -----float()\n",
    "- to string -----str()"
   ]
  },
  {
   "cell_type": "markdown",
   "id": "d013453d",
   "metadata": {},
   "source": [
    "**'I have eaten'+99+'burritos'**\n",
    "- 'I have eaten ' is a string type\n",
    "- 99 is integer type\n",
    "- 'burritos' is a string type\n",
    "\n",
    "***concatination is only possible on similar data type entities.***"
   ]
  }
 ],
 "metadata": {
  "kernelspec": {
   "display_name": "Python 3 (ipykernel)",
   "language": "python",
   "name": "python3"
  },
  "language_info": {
   "codemirror_mode": {
    "name": "ipython",
    "version": 3
   },
   "file_extension": ".py",
   "mimetype": "text/x-python",
   "name": "python",
   "nbconvert_exporter": "python",
   "pygments_lexer": "ipython3",
   "version": "3.9.12"
  }
 },
 "nbformat": 4,
 "nbformat_minor": 5
}
