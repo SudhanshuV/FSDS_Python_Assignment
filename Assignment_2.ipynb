{
 "cells": [
  {
   "cell_type": "markdown",
   "id": "21e3b203",
   "metadata": {},
   "source": [
    "**What are the two values of the Boolean data type? How do you write them?**\n",
    "- True      ***equivalent to 1.***\n",
    "- False     ***equivalent to 0.***"
   ]
  },
  {
   "cell_type": "markdown",
   "id": "675e2d76",
   "metadata": {},
   "source": [
    "***What are the three different types of Boolean operators?***\n",
    "- AND\n",
    "- OR\n",
    "- NOT"
   ]
  },
  {
   "cell_type": "markdown",
   "id": "74492917",
   "metadata": {},
   "source": [
    "**AND**\n",
    "- 0 0 -> 0\n",
    "- 0 1 -> 0\n",
    "- 1 0 -> 0\n",
    "- 1 1 -> 1\n",
    "\n",
    "**OR**\n",
    "- 0 0 -> 0\n",
    "- 0 1 -> 1\n",
    "- 1 0 -> 1\n",
    "- 1 1 -> 1\n",
    "\n",
    "**NOT**\n",
    "- 0 -> 1\n",
    "- 1 -> 0"
   ]
  },
  {
   "cell_type": "code",
   "execution_count": 1,
   "id": "126cbd7a",
   "metadata": {},
   "outputs": [
    {
     "name": "stdout",
     "output_type": "stream",
     "text": [
      "False\n",
      "False\n",
      "True\n",
      "False\n",
      "False\n",
      "True\n"
     ]
    }
   ],
   "source": [
    "print((5>4)and(3==5))\n",
    "print( not(5>4))\n",
    "print((5>4)or(3==5))\n",
    "print(not((5>4)or(3==5)))\n",
    "print((True and True)and(True==False))\n",
    "print((not False)or(not True))"
   ]
  },
  {
   "cell_type": "markdown",
   "id": "cc592bd1",
   "metadata": {},
   "source": [
    "**Comaprision Operators**\n",
    "- '<'\n",
    "- '>'\n",
    "- '<='\n",
    "- '>='\n",
    "- '=='\n",
    "- '!='"
   ]
  },
  {
   "cell_type": "markdown",
   "id": "6c9c5038",
   "metadata": {},
   "source": [
    "***How do you tell the difference between the equal to and assignment operators?Describe a condition and when you would use one.***"
   ]
  },
  {
   "cell_type": "code",
   "execution_count": 2,
   "id": "b1994d07",
   "metadata": {},
   "outputs": [
    {
     "name": "stdout",
     "output_type": "stream",
     "text": [
      "great job\n"
     ]
    }
   ],
   "source": [
    "a=5              #  '=' used as assignment operator.\n",
    "if a==5:         #  '==' used as comaparing (equalas to) operator.\n",
    "    print('great job')\n",
    "else:\n",
    "    print('try again')"
   ]
  },
  {
   "cell_type": "markdown",
   "id": "b2a9526b",
   "metadata": {},
   "source": [
    "**Identify the three blocks in the below code**\n",
    "- 2 if blocks\n",
    "- 1 else block."
   ]
  },
  {
   "cell_type": "code",
   "execution_count": 3,
   "id": "06459617",
   "metadata": {},
   "outputs": [
    {
     "name": "stdout",
     "output_type": "stream",
     "text": [
      "ham\n",
      "spam\n",
      "spam\n"
     ]
    }
   ],
   "source": [
    "spam = 0\n",
    "if spam == 10:\n",
    "    print('eggs')\n",
    "if spam > 5:\n",
    "    print('bacon')\n",
    "else:\n",
    "    print('ham')\n",
    "    print('spam')\n",
    "    print('spam')\n"
   ]
  },
  {
   "cell_type": "code",
   "execution_count": 5,
   "id": "66b3ba44",
   "metadata": {},
   "outputs": [
    {
     "name": "stdout",
     "output_type": "stream",
     "text": [
      "enter 1 or 2 else you will be doomed\t2\n",
      "Howdy\n"
     ]
    }
   ],
   "source": [
    "''' Write code that prints Hello if 1 is stored in spam,\n",
    "prints Howdy if 2 is stored in spam, and prints Greetings! if anything else is stored in spam'''\n",
    "\n",
    "spam=int(input('enter 1 or 2 else you will be doomed\\t'))\n",
    "if spam==1:\n",
    "    print('Hello')\n",
    "if spam==2:\n",
    "    print('Howdy')\n",
    "else:\n",
    "    print('Greeting')\n"
   ]
  },
  {
   "cell_type": "markdown",
   "id": "a17af501",
   "metadata": {},
   "source": [
    "**If your programme is stuck in an endless loop, what keys you’ll press?**\n",
    "\n",
    "- in Jupiter ***press interrupt the kernel***\n",
    "- in cmd ***press CTRL+Z or CTRL+D***\n",
    "- in pycharm ***press CTRL+F2***\n",
    "\n",
    "****main purpose is to kill the process as soon as possible***"
   ]
  },
  {
   "cell_type": "markdown",
   "id": "2b92d477",
   "metadata": {},
   "source": [
    "**How can you tell the difference between break and continue?**\n",
    "\n",
    "***Break***\n",
    "- it throw out of the current loop block.\n",
    "\n",
    "***continue***\n",
    "- it avoids the below code and directly run the cureent loop again."
   ]
  },
  {
   "cell_type": "code",
   "execution_count": 10,
   "id": "5cac0b73",
   "metadata": {},
   "outputs": [
    {
     "name": "stdout",
     "output_type": "stream",
     "text": [
      "[0, 1, 2, 3, 4, 5, 6, 7, 8, 9]\n",
      "[0, 1, 2, 3, 4, 5, 6, 7, 8, 9]\n",
      "[0, 1, 2, 3, 4, 5, 6, 7, 8, 9]\n"
     ]
    }
   ],
   "source": [
    "# In a for loop, what is the difference between range(10), range(0, 10), and range(0, 10, 1)?\n",
    "\n",
    "print(list(range(10)))  # by default staring from 0 to given positive value (right direction {positive}).\n",
    "print(list(range(0,10))) # staring value and upper bound value given before hand\n",
    "print(list(range(0,10,1))) # staring value, upper bound and jump value is given before hand"
   ]
  },
  {
   "cell_type": "code",
   "execution_count": 17,
   "id": "e5ccf8dc",
   "metadata": {},
   "outputs": [
    {
     "name": "stdout",
     "output_type": "stream",
     "text": [
      "12345678910\n",
      "\n",
      "1\n",
      "2\n",
      "3\n",
      "4\n",
      "5\n",
      "6\n",
      "7\n",
      "8\n",
      "9\n",
      "10\n"
     ]
    }
   ],
   "source": [
    "# Write a short program that prints the numbers 1 to 10 using a for loop. Then write an equivalent program that prints the numbers 1 to 10 using a while loop.\n",
    "\n",
    "# using for loop\n",
    "for i in range(1,11):\n",
    "    print(i, end=\"\")\n",
    "\n",
    "print('\\n')\n",
    "# using while loop\n",
    "i=1\n",
    "while i<11:\n",
    "    print(i)\n",
    "    i=i+1\n",
    "    "
   ]
  },
  {
   "cell_type": "markdown",
   "id": "e98a2301",
   "metadata": {},
   "source": [
    "- from spam import bacon\n",
    "\n",
    "**or**\n",
    "\n",
    "- import spam as sp\n",
    "- sp.bacon()"
   ]
  }
 ],
 "metadata": {
  "kernelspec": {
   "display_name": "Python 3 (ipykernel)",
   "language": "python",
   "name": "python3"
  },
  "language_info": {
   "codemirror_mode": {
    "name": "ipython",
    "version": 3
   },
   "file_extension": ".py",
   "mimetype": "text/x-python",
   "name": "python",
   "nbconvert_exporter": "python",
   "pygments_lexer": "ipython3",
   "version": "3.9.12"
  }
 },
 "nbformat": 4,
 "nbformat_minor": 5
}
