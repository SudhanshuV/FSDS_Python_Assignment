{
 "cells": [
  {
   "cell_type": "code",
   "execution_count": 1,
   "id": "f18885c8",
   "metadata": {},
   "outputs": [
    {
     "name": "stdout",
     "output_type": "stream",
     "text": [
      "enter any number5\n",
      "120\n"
     ]
    }
   ],
   "source": [
    "#Q1\n",
    "\n",
    "a=int(input('enter any number: '))\n",
    "f=1\n",
    "if a==1:\n",
    "    print(a)\n",
    "else:\n",
    "    for i in range(2,a+1):\n",
    "        f=f*i\n",
    "print(f)"
   ]
  },
  {
   "cell_type": "code",
   "execution_count": 3,
   "id": "53a32a1a",
   "metadata": {},
   "outputs": [
    {
     "name": "stdout",
     "output_type": "stream",
     "text": [
      "enter any number20\n",
      "20 X 1 = 20\n",
      "20 X 2 = 40\n",
      "20 X 3 = 60\n",
      "20 X 4 = 80\n",
      "20 X 5 = 100\n",
      "20 X 6 = 120\n",
      "20 X 7 = 140\n",
      "20 X 8 = 160\n",
      "20 X 9 = 180\n",
      "20 X 10 = 200\n"
     ]
    }
   ],
   "source": [
    "#Q2\n",
    "\n",
    "a=int(input('enter any number: '))\n",
    "for i in range(1,11):\n",
    "    print('{} X {} = {}'.format(a,i,a*i))"
   ]
  },
  {
   "cell_type": "code",
   "execution_count": 9,
   "id": "93aaa567",
   "metadata": {},
   "outputs": [
    {
     "name": "stdout",
     "output_type": "stream",
     "text": [
      "enter any number: 20\n",
      "1 2 3 5 8 13 21 34 55 89 144 233 377 610 987 1597 2584 4181 6765 10946 17711 28657 "
     ]
    }
   ],
   "source": [
    "#Q3\n",
    "\n",
    "a=int(input('enter any number: '))\n",
    "b,c=1,2\n",
    "print(1,end=' ')\n",
    "print(2,end=' ')\n",
    "while(a>0):\n",
    "    d=b+c\n",
    "    print(d,end=' ')\n",
    "    b=c\n",
    "    c=d\n",
    "    a=a-1\n",
    "    "
   ]
  },
  {
   "cell_type": "code",
   "execution_count": 19,
   "id": "ef608aef",
   "metadata": {},
   "outputs": [
    {
     "name": "stdout",
     "output_type": "stream",
     "text": [
      "enter any number: 1634\n",
      "1634 is an armstrong number\n"
     ]
    }
   ],
   "source": [
    "#Q4\n",
    "\n",
    "a=input('enter any number: ')\n",
    "s=0\n",
    "n=len(a)\n",
    "for i in a:\n",
    "    s=s+(int(i))**n\n",
    "\n",
    "if s==int(a):\n",
    "    print('{} is an armstrong number'.format(int(a)))\n",
    "else:\n",
    "    print('{} is not an armstrong number'.format(int(a)))\n",
    "    \n",
    "    \n"
   ]
  },
  {
   "cell_type": "code",
   "execution_count": 30,
   "id": "dad20838",
   "metadata": {},
   "outputs": [
    {
     "name": "stdout",
     "output_type": "stream",
     "text": [
      "from : 150\n",
      "to : 2000\n",
      "153\n",
      "370\n",
      "371\n",
      "407\n",
      "1634\n"
     ]
    }
   ],
   "source": [
    "#Q5\n",
    "\n",
    "a=int(input('from : '))\n",
    "b=int(input('to : '))+1\n",
    "for i in range(a,b):\n",
    "    su=0\n",
    "    s=str(i)\n",
    "    n=len(s)\n",
    "    for j in s:\n",
    "        su=su+(int(j))**n\n",
    "    if su==i:\n",
    "        print(i)\n",
    "        \n",
    "    "
   ]
  },
  {
   "cell_type": "code",
   "execution_count": 33,
   "id": "e3f82e4d",
   "metadata": {},
   "outputs": [
    {
     "name": "stdout",
     "output_type": "stream",
     "text": [
      "enter any number: 5\n",
      "15\n"
     ]
    }
   ],
   "source": [
    "#Q6\n",
    "\n",
    "a=int(input('enter any number: '))+1\n",
    "s=0\n",
    "for i in range(1,a):\n",
    "    s=s+i\n",
    "print(s)\n",
    "    "
   ]
  },
  {
   "cell_type": "code",
   "execution_count": null,
   "id": "bd190eac",
   "metadata": {},
   "outputs": [],
   "source": []
  }
 ],
 "metadata": {
  "kernelspec": {
   "display_name": "Python 3 (ipykernel)",
   "language": "python",
   "name": "python3"
  },
  "language_info": {
   "codemirror_mode": {
    "name": "ipython",
    "version": 3
   },
   "file_extension": ".py",
   "mimetype": "text/x-python",
   "name": "python",
   "nbconvert_exporter": "python",
   "pygments_lexer": "ipython3",
   "version": "3.9.12"
  }
 },
 "nbformat": 4,
 "nbformat_minor": 5
}
