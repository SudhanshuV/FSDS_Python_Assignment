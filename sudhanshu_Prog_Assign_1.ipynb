{
 "cells": [
  {
   "cell_type": "code",
   "execution_count": 1,
   "id": "8cce9b1c",
   "metadata": {},
   "outputs": [
    {
     "name": "stdout",
     "output_type": "stream",
     "text": [
      "Hello Python\n"
     ]
    }
   ],
   "source": [
    "#Q1\n",
    "\n",
    "print('Hello Python')"
   ]
  },
  {
   "cell_type": "code",
   "execution_count": 2,
   "id": "cac72938",
   "metadata": {},
   "outputs": [
    {
     "name": "stdout",
     "output_type": "stream",
     "text": [
      "enter first number: 4\n",
      "enter second number: 2\n",
      "result of addition will be 6 and division will be 2.0\n"
     ]
    }
   ],
   "source": [
    "#Q2\n",
    "\n",
    "a=int(input('enter first number: '))\n",
    "b=int(input('enter second number: '))\n",
    "print('result of addition will be {} and division will be {}'.format(a+b,a/b))"
   ]
  },
  {
   "cell_type": "code",
   "execution_count": 3,
   "id": "ae6ff28b",
   "metadata": {},
   "outputs": [
    {
     "name": "stdout",
     "output_type": "stream",
     "text": [
      "enter hieght: 14\n",
      "enter base: 6\n",
      "area of the triangle will be 42.0 unit^2\n"
     ]
    }
   ],
   "source": [
    "#Q3\n",
    "\n",
    "a=int(input('enter hieght: '))\n",
    "b=int(input('enter base: '))\n",
    "area= 0.5*a*b\n",
    "print('area of the triangle will be {} unit^2'.format(area))"
   ]
  },
  {
   "cell_type": "code",
   "execution_count": 4,
   "id": "0d16a384",
   "metadata": {},
   "outputs": [
    {
     "name": "stdout",
     "output_type": "stream",
     "text": [
      "enter value of a: 12\n",
      "enter value of b: 43\n",
      "now a = 43 and b = 12\n"
     ]
    }
   ],
   "source": [
    "#Q4\n",
    "\n",
    "a=int(input('enter value of a: '))\n",
    "b=int(input('enter value of b: '))\n",
    "'''\n",
    "s=a\n",
    "a=b\n",
    "b=s\n",
    "'''\n",
    "print('now a = {} and b = {}'.format(b,a))"
   ]
  },
  {
   "cell_type": "code",
   "execution_count": 7,
   "id": "2d763f83",
   "metadata": {},
   "outputs": [
    {
     "name": "stdout",
     "output_type": "stream",
     "text": [
      "3692\n"
     ]
    }
   ],
   "source": [
    "#Q5\n",
    "\n",
    "import random as r\n",
    "print(r.randint(-50,10000))"
   ]
  }
 ],
 "metadata": {
  "kernelspec": {
   "display_name": "Python 3 (ipykernel)",
   "language": "python",
   "name": "python3"
  },
  "language_info": {
   "codemirror_mode": {
    "name": "ipython",
    "version": 3
   },
   "file_extension": ".py",
   "mimetype": "text/x-python",
   "name": "python",
   "nbconvert_exporter": "python",
   "pygments_lexer": "ipython3",
   "version": "3.9.12"
  }
 },
 "nbformat": 4,
 "nbformat_minor": 5
}
