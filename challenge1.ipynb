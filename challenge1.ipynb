{
 "cells": [
  {
   "cell_type": "code",
   "execution_count": 7,
   "id": "6d5f7773",
   "metadata": {},
   "outputs": [
    {
     "ename": "SyntaxError",
     "evalue": "invalid syntax (3783785953.py, line 1)",
     "output_type": "error",
     "traceback": [
      "\u001b[1;36m  Input \u001b[1;32mIn [7]\u001b[1;36m\u001b[0m\n\u001b[1;33m    Your First Challenge :\u001b[0m\n\u001b[1;37m         ^\u001b[0m\n\u001b[1;31mSyntaxError\u001b[0m\u001b[1;31m:\u001b[0m invalid syntax\n"
     ]
    }
   ],
   "source": [
    "Your First Challenge : \n",
    "    \n",
    "you have to submit it by next saturday 4th june 2022  : \n",
    "    shivan@ineuron.ai ,sudhanshu@ineuron.ai\n",
    "    \n",
    "q1 : Try to print this by using while loop \n",
    "* \n",
    "* * \n",
    "* * * \n",
    "* * * * \n",
    "* * * * * \n",
    "* * * * * * \n",
    "* * * * * * * \n",
    "* * * * * * * * \n",
    "* * * * * * * * * \n",
    "\n",
    "q2 : try to print below by using while loop : \n",
    "        \n",
    "A\n",
    "B H \n",
    "C I N\n",
    "D J o S\n",
    "E K p T W\n",
    "F L Q U X z\n",
    "G M R V Y \n",
    "\n",
    "q3 : Try to print all the number divisible by 3 in between a range of 40 - 400\n",
    "    \n",
    "q4 : Try to filter out all the vowels form below text by using while loop : \n",
    " \"\"\"Python is a high-level, interpreted, general-purpose programming language. Its design philosophy emphasizes code readability with the use of significant indentation.[32]\n",
    "\n",
    "Python is dynamically-typed and garbage-collected. It supports multiple programming paradigms, including structured (particularly procedural), object-oriented and functional programming. It is often described as a \"batteries included\" language due to its comprehensive standard library.[33][34]\n",
    "\n",
    "Guido van Rossum began working on Python in the late 1980s as a successor to the ABC programming language and first released it in 1991 as Python 0.9.0.[35] Python 2.0 was released in 2000 and introduced new features such as list comprehensions, cycle-detecting garbage collection, reference counting, and Unicode support. Python 3.0, released in 2008, was a major revision that is not completely backward-compatible with earlier versions. Python 2 was discontinued with version 2.7.18 in 2020.[36]\n",
    "\n",
    "Python consistently ranks as one of the most popular programming languagesc\"\"\" \n",
    "\n",
    "\n",
    "q5 : Try to generate all the even number between 1- 1000\n",
    "\n",
    "q6 : Define a function for all the above problem statememnt  . \n",
    "    \n",
    "q7 : write a code to get a time of your system \n",
    "\n",
    "q8 : Write a code to fetch date form your system \n",
    "\n",
    "q9 : Write a code to send a mail to your friend \n",
    "\n",
    "q10 : write a code to trigger alarm for you at scheduled time \n",
    "\n",
    "q11 : write a code to check ip address of your system \n",
    "\n",
    "q12 : Write a code to check a perticular installation in your system\n",
    "\n",
    "q13 : Write a code to convert any text in to voice \n",
    "\n",
    "q14 : you have to write a fun which will take string and return a len of \n",
    "it without using a inbuilt fun len\n",
    "\n",
    "q15 :write a fun which will be able to print an index of all premitive element which you will pass \n",
    "\n",
    "q16 : Write a fun which will take input as a dict and give me out as a list of all the values \n",
    "even in case of 2 level nesting it should work . \n",
    "\n",
    "q17 : write a function whihc will take multiple list as a input and give me concatnation of all the element as \n",
    "and output\n",
    "\n",
    "q18 : Write a function which will whould return list of all the file name from a directory . \n",
    "\n",
    "q19 : write a function whihc will be able to read a image file and show it to you .\n",
    "    \n",
    "q20 : write a function by which you will be able to append two PDF files . \n",
    "    \n",
    "q21 : write a function which can help you to filter only word file from a directory . \n",
    "    \n",
    "q22 : write a function which can read video file and play for you . \n",
    "    \n",
    "q23 : write a function which will be able to shutdonw your system . \n",
    "\n",
    "q24 : Write a function which will whould return list of all the file name from a directory . \n",
    "\n",
    "q25 : write a function whihc will be able to access your mail . "
   ]
  },
  {
   "cell_type": "code",
   "execution_count": 8,
   "id": "12e954e4",
   "metadata": {},
   "outputs": [
    {
     "name": "stdout",
     "output_type": "stream",
     "text": [
      "* \n",
      "* * \n",
      "* * * \n",
      "* * * * \n",
      "* * * * * \n",
      "* * * * * * \n",
      "* * * * * * * \n",
      "* * * * * * * * \n",
      "* * * * * * * * * \n",
      "* * * * * * * * * * \n"
     ]
    }
   ],
   "source": [
    "# q1 : Try to print this by using while loop\n",
    "i=1\n",
    "while i<=10:\n",
    "    j=1\n",
    "    while(j<=i):\n",
    "        print('*',end=' ')\n",
    "        j=j+1\n",
    "    i=i+1\n",
    "    print('')"
   ]
  },
  {
   "cell_type": "code",
   "execution_count": 9,
   "id": "f7eae305",
   "metadata": {},
   "outputs": [
    {
     "name": "stdout",
     "output_type": "stream",
     "text": [
      "A \n",
      "B C \n",
      "D E F \n",
      "G H I J \n",
      "K L M N O \n",
      "P Q R S T U \n",
      "V W X Y Z \n"
     ]
    }
   ],
   "source": [
    "# q2 : try to print below by using while loop :\n",
    "i=65\n",
    "j=90\n",
    "n=1\n",
    "while n<=7:\n",
    "    l=1\n",
    "    while l<=n:\n",
    "        if(i<=j):\n",
    "            print(chr(i),end=' ')\n",
    "            i=i+1\n",
    "        l=l+1\n",
    "    n=n+1\n",
    "    print()\n",
    "        \n",
    "    \n",
    "    \n",
    "    "
   ]
  },
  {
   "cell_type": "code",
   "execution_count": 10,
   "id": "9d98f89d",
   "metadata": {},
   "outputs": [
    {
     "name": "stdout",
     "output_type": "stream",
     "text": [
      "42 45 48 51 54 57 60 63 66 69 72 75 78 81 84 87 90 93 96 99 102 105 108 111 114 117 120 123 126 129 132 135 138 141 144 147 150 153 156 159 162 165 168 171 174 177 180 183 186 189 192 195 198 201 204 207 210 213 216 219 222 225 228 231 234 237 240 243 246 249 252 255 258 261 264 267 270 273 276 279 282 285 288 291 294 297 300 303 306 309 312 315 318 321 324 327 330 333 336 339 342 345 348 351 354 357 360 363 366 369 372 375 378 381 384 387 390 393 396 399 "
     ]
    }
   ],
   "source": [
    "# q3 : Try to print all the number divisible by 3 in between a range of 40 - 400\n",
    "i=40\n",
    "while i<=400:\n",
    "    if i%3==0:\n",
    "        print(i,end=' ')\n",
    "    i=i+1"
   ]
  },
  {
   "cell_type": "code",
   "execution_count": 11,
   "id": "70fc4bd3",
   "metadata": {},
   "outputs": [
    {
     "name": "stdout",
     "output_type": "stream",
     "text": [
      "o i a i e e i e e e e e a u o e o a i a u a e I e i i o o e a i e o e e a a i i i e u e o i i i a i e a i o o i a i a e a a a e o e e I u o u i e o a i a a i i u i u u e a i u a o e u a o e o i e e a u i o a o a i I i o e e i e a a a e i e i u e a u a e u e o i o e e i e a a i a u i o a o u e a o i o o i e a e a a u e o o e A o a i a u a e a i e e a e i i a o o a e e a e i a i o u e e e a u e u a i o e e i o e e e i a a e o e i o e e e e o u i a U i o e u o o e e a e i a a a o e i i o a i o o e e a a o a i e i e a i e e i o o a i o i u e i e i o i o o i e a a o e o e o o u a o a i a u a e "
     ]
    }
   ],
   "source": [
    "# q4 : Try to filter out all the vowels form below text by using while loop :\n",
    "i=0\n",
    "l='Python is a high-level, interpreted, general-purpose programming language. Its design philosophy emphasizes code readability with the use of significant indentation. Python is dynamically-typed and garbage-collected. It supports multiple programming paradigms, including structured (particularly procedural), object-oriented and functional programming. It is often described as a \"batteries included\" language due to its comprehensive standard library.Guido van Rossum began working on Python in the late 1980s as a successor to the ABC programming language and first released it in 1991 as Python 0.9.0. Python 2.0 was released in 2000 and introduced new features such as list comprehensions, cycle-detecting garbage collection, reference counting, and Unicode support. Python 3.0, released in 2008, was a major revision that is not completely backward-compatible with earlier versions. Python 2 was discontinued with version 2.7.18 in 2020. Python consistently ranks as one of the most popular programming languagesc'\n",
    "while i<len(l):\n",
    "    if l[i]=='A' or l[i]=='a' or l[i]=='E' or l[i]=='e' or l[i]=='I' or l[i]=='i' or l[i]=='O' or  l[i]=='o' or l[i]=='U' or l[i]=='u':\n",
    "        print(l[i],end=' ')\n",
    "    i=i+1"
   ]
  },
  {
   "cell_type": "code",
   "execution_count": 12,
   "id": "7f674860",
   "metadata": {},
   "outputs": [
    {
     "name": "stdout",
     "output_type": "stream",
     "text": [
      "2 4 6 8 10 12 14 16 18 20 22 24 26 28 30 32 34 36 38 40 42 44 46 48 50 52 54 56 58 60 62 64 66 68 70 72 74 76 78 80 82 84 86 88 90 92 94 96 98 100 102 104 106 108 110 112 114 116 118 120 122 124 126 128 130 132 134 136 138 140 142 144 146 148 150 152 154 156 158 160 162 164 166 168 170 172 174 176 178 180 182 184 186 188 190 192 194 196 198 200 202 204 206 208 210 212 214 216 218 220 222 224 226 228 230 232 234 236 238 240 242 244 246 248 250 252 254 256 258 260 262 264 266 268 270 272 274 276 278 280 282 284 286 288 290 292 294 296 298 300 302 304 306 308 310 312 314 316 318 320 322 324 326 328 330 332 334 336 338 340 342 344 346 348 350 352 354 356 358 360 362 364 366 368 370 372 374 376 378 380 382 384 386 388 390 392 394 396 398 400 402 404 406 408 410 412 414 416 418 420 422 424 426 428 430 432 434 436 438 440 442 444 446 448 450 452 454 456 458 460 462 464 466 468 470 472 474 476 478 480 482 484 486 488 490 492 494 496 498 500 502 504 506 508 510 512 514 516 518 520 522 524 526 528 530 532 534 536 538 540 542 544 546 548 550 552 554 556 558 560 562 564 566 568 570 572 574 576 578 580 582 584 586 588 590 592 594 596 598 600 602 604 606 608 610 612 614 616 618 620 622 624 626 628 630 632 634 636 638 640 642 644 646 648 650 652 654 656 658 660 662 664 666 668 670 672 674 676 678 680 682 684 686 688 690 692 694 696 698 700 702 704 706 708 710 712 714 716 718 720 722 724 726 728 730 732 734 736 738 740 742 744 746 748 750 752 754 756 758 760 762 764 766 768 770 772 774 776 778 780 782 784 786 788 790 792 794 796 798 800 802 804 806 808 810 812 814 816 818 820 822 824 826 828 830 832 834 836 838 840 842 844 846 848 850 852 854 856 858 860 862 864 866 868 870 872 874 876 878 880 882 884 886 888 890 892 894 896 898 900 902 904 906 908 910 912 914 916 918 920 922 924 926 928 930 932 934 936 938 940 942 944 946 948 950 952 954 956 958 960 962 964 966 968 970 972 974 976 978 980 982 984 986 988 990 992 994 996 998 1000 "
     ]
    }
   ],
   "source": [
    "# q5 : Try to generate all the even number between 1- 1000\n",
    "i=1\n",
    "while i<=1000:\n",
    "    if i%2==0:\n",
    "        print(i,end=' ')\n",
    "    i=i+1"
   ]
  },
  {
   "cell_type": "code",
   "execution_count": 13,
   "id": "7d48a93f",
   "metadata": {},
   "outputs": [],
   "source": [
    "# q6 : Define a function for all the above problem statememnt\n",
    "def gen_even(i,j):\n",
    "    while i<=j:\n",
    "        if i%2==0:\n",
    "            print(i,end=' ')\n",
    "        i=i+1\n",
    "    return 1\n",
    "\n",
    "def ext_vowel(l):\n",
    "    i=0\n",
    "    while i<len(l):\n",
    "        if l[i]=='A' or l[i]=='a' or l[i]=='E' or l[i]=='e' or l[i]=='I' or l[i]=='i' or l[i]=='O' or  l[i]=='o' or l[i]=='U' or l[i]=='u':\n",
    "            print(l[i],end=' ')\n",
    "        i=i+1\n",
    "    return 1\n",
    "\n",
    "def divisible_3(i,j):\n",
    "    while i<=j:\n",
    "        if i%3==0:\n",
    "            print(i,end=' ')\n",
    "        i=i+1\n",
    "    return 1"
   ]
  },
  {
   "cell_type": "code",
   "execution_count": 14,
   "id": "ac041094",
   "metadata": {},
   "outputs": [
    {
     "name": "stdout",
     "output_type": "stream",
     "text": [
      "100 102 104 106 108 110 112 114 116 118 120 122 124 126 128 130 132 134 136 138 140 142 144 146 148 150 152 154 156 158 160 162 164 166 168 170 172 174 176 178 180 182 184 186 188 190 192 194 196 198 200 "
     ]
    },
    {
     "data": {
      "text/plain": [
       "1"
      ]
     },
     "execution_count": 14,
     "metadata": {},
     "output_type": "execute_result"
    }
   ],
   "source": [
    "gen_even(100,200)"
   ]
  },
  {
   "cell_type": "code",
   "execution_count": 15,
   "id": "24450d16",
   "metadata": {},
   "outputs": [
    {
     "name": "stdout",
     "output_type": "stream",
     "text": [
      "o i a i e e i e e e e e a u o e o a i a u a e I e i i o o e a i e o e e a a i i i e u e o i i i a i e a i o o i a i a e a a a e o e e I u o u i e o a i a a i i u i u u e a i u a o e u a o e o i e e a u i o a o a i I i o e e i e a a a e i e i u e a u a e u e o i o e e i e a a i a u i o a o u e a o i o o i e a e a a u e o o e A o a i a u a e a i e e a e i i a o o a e e a e i a i o u e e e a u e u a i o e e i o e e e i a a e o e i o e e e e o u i a U i o e u o o e e a e i a a a o e i i o a i o o e e a a o a i e i e a i e e i o o a i o i u e i e i o i o o i e a a o e o e o o u a o a i a u a e "
     ]
    },
    {
     "data": {
      "text/plain": [
       "1"
      ]
     },
     "execution_count": 15,
     "metadata": {},
     "output_type": "execute_result"
    }
   ],
   "source": [
    "ext_vowel(l)"
   ]
  },
  {
   "cell_type": "code",
   "execution_count": 16,
   "id": "c4c75088",
   "metadata": {},
   "outputs": [
    {
     "name": "stdout",
     "output_type": "stream",
     "text": [
      "102 105 108 111 114 117 120 123 126 129 132 135 138 141 144 147 150 153 156 159 162 165 168 171 174 177 180 183 186 189 192 195 198 201 204 207 210 213 216 219 222 225 228 231 234 237 240 243 246 249 252 255 258 261 264 267 270 273 276 279 282 285 288 291 294 297 300 "
     ]
    },
    {
     "data": {
      "text/plain": [
       "1"
      ]
     },
     "execution_count": 16,
     "metadata": {},
     "output_type": "execute_result"
    }
   ],
   "source": [
    "divisible_3(100,300)"
   ]
  },
  {
   "cell_type": "code",
   "execution_count": 17,
   "id": "fb5b0bd8",
   "metadata": {},
   "outputs": [
    {
     "name": "stdout",
     "output_type": "stream",
     "text": [
      "10:27:49\n"
     ]
    }
   ],
   "source": [
    "# q7 : write a code to get a time of your system \n",
    "from datetime import datetime as dt\n",
    "print(dt.now().strftime(\"%H:%M:%S\"))"
   ]
  },
  {
   "cell_type": "code",
   "execution_count": 18,
   "id": "f9f8da48",
   "metadata": {},
   "outputs": [
    {
     "name": "stdout",
     "output_type": "stream",
     "text": [
      "2022-05-30\n"
     ]
    }
   ],
   "source": [
    "# q8 : Write a code to fetch date form your system\n",
    "from datetime import datetime as dt\n",
    "print(dt.now().strftime(\"%Y-%m-%d\"))"
   ]
  },
  {
   "cell_type": "code",
   "execution_count": 19,
   "id": "65ef5add",
   "metadata": {},
   "outputs": [],
   "source": [
    "# q9 : Write a code to send a mail to your friend\n",
    "\n"
   ]
  },
  {
   "cell_type": "code",
   "execution_count": 20,
   "id": "516daab7",
   "metadata": {},
   "outputs": [],
   "source": [
    "# q10 : write a code to trigger alarm for you at scheduled time\n",
    "\n"
   ]
  },
  {
   "cell_type": "code",
   "execution_count": 21,
   "id": "f9ef6c29",
   "metadata": {},
   "outputs": [
    {
     "name": "stdout",
     "output_type": "stream",
     "text": [
      "Your Computer Name is:DESKTOP-7EDI371\n",
      "Your Computer IP Address is:192.168.56.1\n"
     ]
    }
   ],
   "source": [
    "# q11 : write a code to check ip address of your system\n",
    "\n",
    "import socket   \n",
    "hostname = socket.gethostname()   \n",
    "IPAddr = socket.gethostbyname(hostname)   \n",
    "print(\"Your Computer Name is:\" + hostname)   \n",
    "print(\"Your Computer IP Address is:\" + IPAddr)"
   ]
  },
  {
   "cell_type": "code",
   "execution_count": 22,
   "id": "41796d9a",
   "metadata": {},
   "outputs": [],
   "source": [
    "# q12 : Write a code to check a perticular installation in your system\n"
   ]
  },
  {
   "cell_type": "code",
   "execution_count": 23,
   "id": "4e538ec8",
   "metadata": {},
   "outputs": [],
   "source": [
    "# q13 : Write a code to convert any text in to voice\n",
    "\n",
    "import pyttsx3    \n",
    "engine = pyttsx3.init()   \n",
    "text = \"Sudhanshu Verma is great\"  \n",
    "engine.say(text)   \n",
    "engine.runAndWait() "
   ]
  },
  {
   "cell_type": "code",
   "execution_count": 24,
   "id": "2ed1196b",
   "metadata": {},
   "outputs": [],
   "source": [
    "# you have to write a fun which will take string and return a len of it without using a inbuilt fun len\n",
    "def str_len(l):\n",
    "    c=0\n",
    "    for i in l:\n",
    "        c=c+1\n",
    "    return c"
   ]
  },
  {
   "cell_type": "code",
   "execution_count": 25,
   "id": "4896f51b",
   "metadata": {},
   "outputs": [
    {
     "data": {
      "text/plain": [
       "5"
      ]
     },
     "execution_count": 25,
     "metadata": {},
     "output_type": "execute_result"
    }
   ],
   "source": [
    "str_len('hello')"
   ]
  },
  {
   "cell_type": "code",
   "execution_count": 26,
   "id": "b0d2c70b",
   "metadata": {},
   "outputs": [],
   "source": [
    "# q15 :write a fun which will be able to print an index of all premitive element which you will pass\n",
    "\n",
    "def ret_index(*args):\n",
    "    for i in range(0,len(args)):\n",
    "        if type(args[i])==int or type(args[i])==float or type(args[i])==str or type(args[i])==bool:\n",
    "            print('{} is of {} type at index {} '.format(args[i],type(args[i]),i))\n",
    "    return 1\n",
    "        "
   ]
  },
  {
   "cell_type": "code",
   "execution_count": 27,
   "id": "24f8b6eb",
   "metadata": {},
   "outputs": [
    {
     "name": "stdout",
     "output_type": "stream",
     "text": [
      "1 is of <class 'int'> type at index 0 \n",
      "2 is of <class 'int'> type at index 1 \n",
      "3 is of <class 'int'> type at index 2 \n",
      "sudhanshu is of <class 'str'> type at index 3 \n",
      "10.67 is of <class 'float'> type at index 4 \n",
      "False is of <class 'bool'> type at index 5 \n"
     ]
    },
    {
     "data": {
      "text/plain": [
       "1"
      ]
     },
     "execution_count": 27,
     "metadata": {},
     "output_type": "execute_result"
    }
   ],
   "source": [
    "ret_index(1,2,3,'sudhanshu',10.67,False)"
   ]
  },
  {
   "cell_type": "code",
   "execution_count": 28,
   "id": "6d25f28a",
   "metadata": {},
   "outputs": [],
   "source": [
    "# q16 : Write a fun which will take input as a dict and give me out as a list of all the values even in case of 2 level nesting it should work .\n",
    "def d2l(d):\n",
    "    l1=[]\n",
    "    for i in d:\n",
    "        if type(d[i])==dict:\n",
    "            for j in d[i]:\n",
    "                l1.append(d[i][j])\n",
    "        else:\n",
    "            l1.append(d[i])\n",
    "    return l1"
   ]
  },
  {
   "cell_type": "code",
   "execution_count": 29,
   "id": "394f2ecc",
   "metadata": {},
   "outputs": [
    {
     "data": {
      "text/plain": [
       "[2, 34, 'gfg', 23, 32]"
      ]
     },
     "execution_count": 29,
     "metadata": {},
     "output_type": "execute_result"
    }
   ],
   "source": [
    "d2l({1:2,'sad':34,'dasds':'gfg',4:{6:23,8:32}})"
   ]
  },
  {
   "cell_type": "code",
   "execution_count": 30,
   "id": "1d795ace",
   "metadata": {},
   "outputs": [],
   "source": [
    "# q17 : write a function whihc will take multiple list as a input and give me concatnation of all the element as and output\n",
    "def list_concat(*args):\n",
    "    l1=[]\n",
    "    for i in args:\n",
    "        l1=l1+i\n",
    "    return l1"
   ]
  },
  {
   "cell_type": "code",
   "execution_count": 31,
   "id": "6872f795",
   "metadata": {},
   "outputs": [
    {
     "data": {
      "text/plain": [
       "[1, 2, 3, 4, 'asdf', True, 56, 876, 'verma', False]"
      ]
     },
     "execution_count": 31,
     "metadata": {},
     "output_type": "execute_result"
    }
   ],
   "source": [
    "list_concat([1,2,3,4,'asdf',True],[56,876,'verma',False])"
   ]
  },
  {
   "cell_type": "code",
   "execution_count": 32,
   "id": "58f8ce15",
   "metadata": {},
   "outputs": [],
   "source": [
    "# q18 : Write a function which will should return list of all the file name from a directory \n",
    "import os\n",
    "def file_in_dir():\n",
    "    path = \"D://Games\"\n",
    "    dir_list = os.listdir(path)\n",
    "    return dir_list"
   ]
  },
  {
   "cell_type": "code",
   "execution_count": 33,
   "id": "9bd1f010",
   "metadata": {},
   "outputs": [
    {
     "data": {
      "text/plain": [
       "['Dragon Ball Z - Kakarot',\n",
       " 'ELDEN RING',\n",
       " 'God of War',\n",
       " 'Grand Theft Auto V',\n",
       " 'One Piece - Pirate Warriors 4',\n",
       " 'ONE PIECE - World Seeker']"
      ]
     },
     "execution_count": 33,
     "metadata": {},
     "output_type": "execute_result"
    }
   ],
   "source": [
    "file_in_dir()"
   ]
  },
  {
   "cell_type": "code",
   "execution_count": 34,
   "id": "2b7545a5",
   "metadata": {},
   "outputs": [],
   "source": [
    "# q19 : write a function whihc will be able to read a image file and show it to you .\n",
    "from PIL import Image\n",
    "def show_pic():\n",
    "    img = Image.open('SV.PNG')\n",
    "    img.show()\n",
    "    return 1"
   ]
  },
  {
   "cell_type": "code",
   "execution_count": 35,
   "id": "ce0ba753",
   "metadata": {},
   "outputs": [
    {
     "data": {
      "text/plain": [
       "1"
      ]
     },
     "execution_count": 35,
     "metadata": {},
     "output_type": "execute_result"
    }
   ],
   "source": [
    "show_pic()"
   ]
  },
  {
   "cell_type": "code",
   "execution_count": 36,
   "id": "99210b33",
   "metadata": {},
   "outputs": [],
   "source": [
    "# q20 : write a function by which you will be able to append two PDF files .\n",
    "from PyPDF2 import PdfMerger\n",
    "def merge_pdf():\n",
    "    pdfs = ['das.pdf', 'numcs.pdf']\n",
    "    merger = PdfMerger()\n",
    "    for pdf in pdfs:\n",
    "        merger.append(pdf)\n",
    "    merger.write(\"result.pdf\")\n",
    "    merger.close()\n",
    "    return 1"
   ]
  },
  {
   "cell_type": "code",
   "execution_count": 37,
   "id": "981a8dc9",
   "metadata": {},
   "outputs": [
    {
     "data": {
      "text/plain": [
       "1"
      ]
     },
     "execution_count": 37,
     "metadata": {},
     "output_type": "execute_result"
    }
   ],
   "source": [
    "merge_pdf()"
   ]
  },
  {
   "cell_type": "code",
   "execution_count": 38,
   "id": "6c55d6a7",
   "metadata": {},
   "outputs": [],
   "source": [
    "# q21 : write a function which can help you to filter only word file from a directory .\n",
    "\n",
    "import os\n",
    "def file_filter():\n",
    "    for file in os.listdir(r'C:\\Users\\Himanshu Verma\\Downloads'):\n",
    "        if file.endswith(\".doc\"):\n",
    "            print(file)\n",
    "    return 1"
   ]
  },
  {
   "cell_type": "code",
   "execution_count": 39,
   "id": "5130e829",
   "metadata": {},
   "outputs": [
    {
     "name": "stdout",
     "output_type": "stream",
     "text": [
      "srcongresume.doc\n"
     ]
    },
    {
     "data": {
      "text/plain": [
       "1"
      ]
     },
     "execution_count": 39,
     "metadata": {},
     "output_type": "execute_result"
    }
   ],
   "source": [
    "file_filter()"
   ]
  },
  {
   "cell_type": "code",
   "execution_count": 40,
   "id": "c0b030d9",
   "metadata": {},
   "outputs": [
    {
     "name": "stdout",
     "output_type": "stream",
     "text": [
      "Requirement already satisfied: opencv-python in c:\\users\\himanshu verma\\anaconda3\\lib\\site-packages (4.5.5.64)\n",
      "Requirement already satisfied: numpy>=1.19.3 in c:\\users\\himanshu verma\\anaconda3\\lib\\site-packages (from opencv-python) (1.21.5)\n",
      "Note: you may need to restart the kernel to use updated packages.\n"
     ]
    }
   ],
   "source": [
    "pip install opencv-python"
   ]
  },
  {
   "cell_type": "code",
   "execution_count": 41,
   "id": "f2611358",
   "metadata": {},
   "outputs": [],
   "source": [
    "# q22 : write a function which can read video file and play for you . \n",
    "import cv2\n",
    "import numpy as np\n",
    "\n",
    "def play_video():\n",
    "    cap = cv2.VideoCapture('Elden Ring.mp4')\n",
    "    if (cap.isOpened()== False): \n",
    "      print(\"Error opening video  file\")\n",
    "    while(cap.isOpened()):\n",
    "      ret, frame = cap.read()\n",
    "      if ret == True:\n",
    "        cv2.imshow('Frame', frame)\n",
    "        if cv2.waitKey(25) & 0xFF == ord('q'):\n",
    "          break\n",
    "      else: \n",
    "        break\n",
    "    cap.release()\n",
    "    cv2.destroyAllWindows()\n",
    "    return 1"
   ]
  },
  {
   "cell_type": "code",
   "execution_count": 42,
   "id": "0f587593",
   "metadata": {},
   "outputs": [
    {
     "data": {
      "text/plain": [
       "1"
      ]
     },
     "execution_count": 42,
     "metadata": {},
     "output_type": "execute_result"
    }
   ],
   "source": [
    "play_video()"
   ]
  },
  {
   "cell_type": "code",
   "execution_count": 43,
   "id": "d367e0b4",
   "metadata": {},
   "outputs": [],
   "source": [
    "# q23 : write a function which will be able to shutdonw your system .\n",
    "import os\n",
    "def shutdown_pc():\n",
    "    shutdown = input(\"Do you wish to shutdown your computer ? (yes / no): \")\n",
    "    if shutdown == 'no':\n",
    "        exit()\n",
    "    else:\n",
    "        os.system(\"shutdown /s /t 1\")"
   ]
  },
  {
   "cell_type": "code",
   "execution_count": 44,
   "id": "df67f459",
   "metadata": {},
   "outputs": [
    {
     "name": "stdout",
     "output_type": "stream",
     "text": [
      "Do you wish to shutdown your computer ? (yes / no): no\n"
     ]
    }
   ],
   "source": [
    "shutdown_pc()"
   ]
  }
 ],
 "metadata": {
  "kernelspec": {
   "display_name": "Python 3 (ipykernel)",
   "language": "python",
   "name": "python3"
  },
  "language_info": {
   "codemirror_mode": {
    "name": "ipython",
    "version": 3
   },
   "file_extension": ".py",
   "mimetype": "text/x-python",
   "name": "python",
   "nbconvert_exporter": "python",
   "pygments_lexer": "ipython3",
   "version": "3.9.12"
  }
 },
 "nbformat": 4,
 "nbformat_minor": 5
}
