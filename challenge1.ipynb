{
 "cells": [
  {
   "cell_type": "code",
   "execution_count": 7,
   "id": "fd423fa2",
   "metadata": {},
   "outputs": [
    {
     "ename": "SyntaxError",
     "evalue": "invalid syntax (3783785953.py, line 1)",
     "output_type": "error",
     "traceback": [
      "\u001b[1;36m  Input \u001b[1;32mIn [7]\u001b[1;36m\u001b[0m\n\u001b[1;33m    Your First Challenge :\u001b[0m\n\u001b[1;37m         ^\u001b[0m\n\u001b[1;31mSyntaxError\u001b[0m\u001b[1;31m:\u001b[0m invalid syntax\n"
     ]
    }
   ],
   "source": [
    "Your First Challenge : \n",
    "    \n",
    "you have to submit it by next saturday 4th june 2022  : \n",
    "    shivan@ineuron.ai ,sudhanshu@ineuron.ai\n",
    "    \n",
    "q1 : Try to print this by using while loop \n",
    "* \n",
    "* * \n",
    "* * * \n",
    "* * * * \n",
    "* * * * * \n",
    "* * * * * * \n",
    "* * * * * * * \n",
    "* * * * * * * * \n",
    "* * * * * * * * * \n",
    "\n",
    "q2 : try to print below by using while loop : \n",
    "        \n",
    "A\n",
    "B H \n",
    "C I N\n",
    "D J o S\n",
    "E K p T W\n",
    "F L Q U X z\n",
    "G M R V Y \n",
    "\n",
    "q3 : Try to print all the number divisible by 3 in between a range of 40 - 400\n",
    "    \n",
    "q4 : Try to filter out all the vowels form below text by using while loop : \n",
    " \"\"\"Python is a high-level, interpreted, general-purpose programming language. Its design philosophy emphasizes code readability with the use of significant indentation.[32]\n",
    "\n",
    "Python is dynamically-typed and garbage-collected. It supports multiple programming paradigms, including structured (particularly procedural), object-oriented and functional programming. It is often described as a \"batteries included\" language due to its comprehensive standard library.[33][34]\n",
    "\n",
    "Guido van Rossum began working on Python in the late 1980s as a successor to the ABC programming language and first released it in 1991 as Python 0.9.0.[35] Python 2.0 was released in 2000 and introduced new features such as list comprehensions, cycle-detecting garbage collection, reference counting, and Unicode support. Python 3.0, released in 2008, was a major revision that is not completely backward-compatible with earlier versions. Python 2 was discontinued with version 2.7.18 in 2020.[36]\n",
    "\n",
    "Python consistently ranks as one of the most popular programming languagesc\"\"\" \n",
    "\n",
    "\n",
    "q5 : Try to generate all the even number between 1- 1000\n",
    "\n",
    "q6 : Define a function for all the above problem statememnt  . \n",
    "    \n",
    "q7 : write a code to get a time of your system \n",
    "\n",
    "q8 : Write a code to fetch date form your system \n",
    "\n",
    "q9 : Write a code to send a mail to your friend \n",
    "\n",
    "q10 : write a code to trigger alarm for you at scheduled time \n",
    "\n",
    "q11 : write a code to check ip address of your system \n",
    "\n",
    "q12 : Write a code to check a perticular installation in your system\n",
    "\n",
    "q13 : Write a code to convert any text in to voice \n",
    "\n",
    "q14 : you have to write a fun which will take string and return a len of \n",
    "it without using a inbuilt fun len\n",
    "\n",
    "q15 :write a fun which will be able to print an index of all premitive element which you will pass \n",
    "\n",
    "q16 : Write a fun which will take input as a dict and give me out as a list of all the values \n",
    "even in case of 2 level nesting it should work . \n",
    "\n",
    "q17 : write a function whihc will take multiple list as a input and give me concatnation of all the element as \n",
    "and output\n",
    "\n",
    "q18 : Write a function which will whould return list of all the file name from a directory . \n",
    "\n",
    "q19 : write a function whihc will be able to read a image file and show it to you .\n",
    "    \n",
    "q20 : write a function by which you will be able to append two PDF files . \n",
    "    \n",
    "q21 : write a function which can help you to filter only word file from a directory . \n",
    "    \n",
    "q22 : write a function which can read video file and play for you . \n",
    "    \n",
    "q23 : write a function which will be able to shutdonw your system . \n",
    "\n",
    "q24 : Write a function which will whould return list of all the file name from a directory . \n",
    "\n",
    "q25 : write a function whihc will be able to access your mail . "
   ]
  },
  {
   "cell_type": "code",
   "execution_count": 8,
   "id": "421a2f27",
   "metadata": {},
   "outputs": [
    {
     "name": "stdout",
     "output_type": "stream",
     "text": [
      "* \n",
      "* * \n",
      "* * * \n",
      "* * * * \n",
      "* * * * * \n",
      "* * * * * * \n",
      "* * * * * * * \n",
      "* * * * * * * * \n",
      "* * * * * * * * * \n",
      "* * * * * * * * * * \n"
     ]
    }
   ],
   "source": [
    "# q1 : Try to print this by using while loop\n",
    "i=1\n",
    "while i<=10:\n",
    "    j=1\n",
    "    while(j<=i):\n",
    "        print('*',end=' ')\n",
    "        j=j+1\n",
    "    i=i+1\n",
    "    print('')"
   ]
  },
  {
   "cell_type": "code",
   "execution_count": 9,
   "id": "9a9c3796",
   "metadata": {},
   "outputs": [
    {
     "name": "stdout",
     "output_type": "stream",
     "text": [
      "A \n",
      "B C \n",
      "D E F \n",
      "G H I J \n",
      "K L M N O \n",
      "P Q R S T U \n",
      "V W X Y Z \n"
     ]
    }
   ],
   "source": [
    "# q2 : try to print below by using while loop :\n",
    "i=65\n",
    "j=90\n",
    "n=1\n",
    "while n<=7:\n",
    "    l=1\n",
    "    while l<=n:\n",
    "        if(i<=j):\n",
    "            print(chr(i),end=' ')\n",
    "            i=i+1\n",
    "        l=l+1\n",
    "    n=n+1\n",
    "    print()\n",
    "        \n",
    "    \n",
    "    \n",
    "    "
   ]
  },
  {
   "cell_type": "code",
   "execution_count": 1,
   "id": "bd535fc6",
   "metadata": {},
   "outputs": [
    {
     "name": "stdout",
     "output_type": "stream",
     "text": [
      "A \n",
      "B H \n",
      "C I N \n",
      "D J O S \n",
      "E K P T W \n",
      "F L Q U X Z \n",
      "G M R V Y \n"
     ]
    }
   ],
   "source": [
    "i=0\n",
    "while i<7:\n",
    "    l=7\n",
    "    k=i+65  \n",
    "    for j in range(i+1):\n",
    "        if chr(k).isalpha():\n",
    "         print(chr(k),end=\" \") \n",
    "         l-=1\n",
    "         k+=l     \n",
    "    i += 1\n",
    "    print()"
   ]
  },
  {
   "cell_type": "code",
   "execution_count": 10,
   "id": "5538e718",
   "metadata": {},
   "outputs": [
    {
     "name": "stdout",
     "output_type": "stream",
     "text": [
      "42 45 48 51 54 57 60 63 66 69 72 75 78 81 84 87 90 93 96 99 102 105 108 111 114 117 120 123 126 129 132 135 138 141 144 147 150 153 156 159 162 165 168 171 174 177 180 183 186 189 192 195 198 201 204 207 210 213 216 219 222 225 228 231 234 237 240 243 246 249 252 255 258 261 264 267 270 273 276 279 282 285 288 291 294 297 300 303 306 309 312 315 318 321 324 327 330 333 336 339 342 345 348 351 354 357 360 363 366 369 372 375 378 381 384 387 390 393 396 399 "
     ]
    }
   ],
   "source": [
    "# q3 : Try to print all the number divisible by 3 in between a range of 40 - 400\n",
    "i=40\n",
    "while i<=400:\n",
    "    if i%3==0:\n",
    "        print(i,end=' ')\n",
    "    i=i+1"
   ]
  },
  {
   "cell_type": "code",
   "execution_count": 11,
   "id": "bf95a4bc",
   "metadata": {},
   "outputs": [
    {
     "name": "stdout",
     "output_type": "stream",
     "text": [
      "o i a i e e i e e e e e a u o e o a i a u a e I e i i o o e a i e o e e a a i i i e u e o i i i a i e a i o o i a i a e a a a e o e e I u o u i e o a i a a i i u i u u e a i u a o e u a o e o i e e a u i o a o a i I i o e e i e a a a e i e i u e a u a e u e o i o e e i e a a i a u i o a o u e a o i o o i e a e a a u e o o e A o a i a u a e a i e e a e i i a o o a e e a e i a i o u e e e a u e u a i o e e i o e e e i a a e o e i o e e e e o u i a U i o e u o o e e a e i a a a o e i i o a i o o e e a a o a i e i e a i e e i o o a i o i u e i e i o i o o i e a a o e o e o o u a o a i a u a e "
     ]
    }
   ],
   "source": [
    "# q4 : Try to filter out all the vowels form below text by using while loop :\n",
    "i=0\n",
    "l='Python is a high-level, interpreted, general-purpose programming language. Its design philosophy emphasizes code readability with the use of significant indentation. Python is dynamically-typed and garbage-collected. It supports multiple programming paradigms, including structured (particularly procedural), object-oriented and functional programming. It is often described as a \"batteries included\" language due to its comprehensive standard library.Guido van Rossum began working on Python in the late 1980s as a successor to the ABC programming language and first released it in 1991 as Python 0.9.0. Python 2.0 was released in 2000 and introduced new features such as list comprehensions, cycle-detecting garbage collection, reference counting, and Unicode support. Python 3.0, released in 2008, was a major revision that is not completely backward-compatible with earlier versions. Python 2 was discontinued with version 2.7.18 in 2020. Python consistently ranks as one of the most popular programming languagesc'\n",
    "while i<len(l):\n",
    "    if l[i]=='A' or l[i]=='a' or l[i]=='E' or l[i]=='e' or l[i]=='I' or l[i]=='i' or l[i]=='O' or  l[i]=='o' or l[i]=='U' or l[i]=='u':\n",
    "        print(l[i],end=' ')\n",
    "    i=i+1"
   ]
  },
  {
   "cell_type": "code",
   "execution_count": 12,
   "id": "63c3753c",
   "metadata": {},
   "outputs": [
    {
     "name": "stdout",
     "output_type": "stream",
     "text": [
      "2 4 6 8 10 12 14 16 18 20 22 24 26 28 30 32 34 36 38 40 42 44 46 48 50 52 54 56 58 60 62 64 66 68 70 72 74 76 78 80 82 84 86 88 90 92 94 96 98 100 102 104 106 108 110 112 114 116 118 120 122 124 126 128 130 132 134 136 138 140 142 144 146 148 150 152 154 156 158 160 162 164 166 168 170 172 174 176 178 180 182 184 186 188 190 192 194 196 198 200 202 204 206 208 210 212 214 216 218 220 222 224 226 228 230 232 234 236 238 240 242 244 246 248 250 252 254 256 258 260 262 264 266 268 270 272 274 276 278 280 282 284 286 288 290 292 294 296 298 300 302 304 306 308 310 312 314 316 318 320 322 324 326 328 330 332 334 336 338 340 342 344 346 348 350 352 354 356 358 360 362 364 366 368 370 372 374 376 378 380 382 384 386 388 390 392 394 396 398 400 402 404 406 408 410 412 414 416 418 420 422 424 426 428 430 432 434 436 438 440 442 444 446 448 450 452 454 456 458 460 462 464 466 468 470 472 474 476 478 480 482 484 486 488 490 492 494 496 498 500 502 504 506 508 510 512 514 516 518 520 522 524 526 528 530 532 534 536 538 540 542 544 546 548 550 552 554 556 558 560 562 564 566 568 570 572 574 576 578 580 582 584 586 588 590 592 594 596 598 600 602 604 606 608 610 612 614 616 618 620 622 624 626 628 630 632 634 636 638 640 642 644 646 648 650 652 654 656 658 660 662 664 666 668 670 672 674 676 678 680 682 684 686 688 690 692 694 696 698 700 702 704 706 708 710 712 714 716 718 720 722 724 726 728 730 732 734 736 738 740 742 744 746 748 750 752 754 756 758 760 762 764 766 768 770 772 774 776 778 780 782 784 786 788 790 792 794 796 798 800 802 804 806 808 810 812 814 816 818 820 822 824 826 828 830 832 834 836 838 840 842 844 846 848 850 852 854 856 858 860 862 864 866 868 870 872 874 876 878 880 882 884 886 888 890 892 894 896 898 900 902 904 906 908 910 912 914 916 918 920 922 924 926 928 930 932 934 936 938 940 942 944 946 948 950 952 954 956 958 960 962 964 966 968 970 972 974 976 978 980 982 984 986 988 990 992 994 996 998 1000 "
     ]
    }
   ],
   "source": [
    "# q5 : Try to generate all the even number between 1- 1000\n",
    "i=1\n",
    "while i<=1000:\n",
    "    if i%2==0:\n",
    "        print(i,end=' ')\n",
    "    i=i+1"
   ]
  },
  {
   "cell_type": "code",
   "execution_count": 13,
   "id": "2b029831",
   "metadata": {},
   "outputs": [],
   "source": [
    "# q6 : Define a function for all the above problem statememnt\n",
    "def gen_even(i,j):\n",
    "    while i<=j:\n",
    "        if i%2==0:\n",
    "            print(i,end=' ')\n",
    "        i=i+1\n",
    "    return 1\n",
    "\n",
    "def ext_vowel(l):\n",
    "    i=0\n",
    "    while i<len(l):\n",
    "        if l[i]=='A' or l[i]=='a' or l[i]=='E' or l[i]=='e' or l[i]=='I' or l[i]=='i' or l[i]=='O' or  l[i]=='o' or l[i]=='U' or l[i]=='u':\n",
    "            print(l[i],end=' ')\n",
    "        i=i+1\n",
    "    return 1\n",
    "\n",
    "def divisible_3(i,j):\n",
    "    while i<=j:\n",
    "        if i%3==0:\n",
    "            print(i,end=' ')\n",
    "        i=i+1\n",
    "    return 1"
   ]
  },
  {
   "cell_type": "code",
   "execution_count": 14,
   "id": "8c17655a",
   "metadata": {},
   "outputs": [
    {
     "name": "stdout",
     "output_type": "stream",
     "text": [
      "100 102 104 106 108 110 112 114 116 118 120 122 124 126 128 130 132 134 136 138 140 142 144 146 148 150 152 154 156 158 160 162 164 166 168 170 172 174 176 178 180 182 184 186 188 190 192 194 196 198 200 "
     ]
    },
    {
     "data": {
      "text/plain": [
       "1"
      ]
     },
     "execution_count": 14,
     "metadata": {},
     "output_type": "execute_result"
    }
   ],
   "source": [
    "gen_even(100,200)"
   ]
  },
  {
   "cell_type": "code",
   "execution_count": 15,
   "id": "5387c382",
   "metadata": {},
   "outputs": [
    {
     "name": "stdout",
     "output_type": "stream",
     "text": [
      "o i a i e e i e e e e e a u o e o a i a u a e I e i i o o e a i e o e e a a i i i e u e o i i i a i e a i o o i a i a e a a a e o e e I u o u i e o a i a a i i u i u u e a i u a o e u a o e o i e e a u i o a o a i I i o e e i e a a a e i e i u e a u a e u e o i o e e i e a a i a u i o a o u e a o i o o i e a e a a u e o o e A o a i a u a e a i e e a e i i a o o a e e a e i a i o u e e e a u e u a i o e e i o e e e i a a e o e i o e e e e o u i a U i o e u o o e e a e i a a a o e i i o a i o o e e a a o a i e i e a i e e i o o a i o i u e i e i o i o o i e a a o e o e o o u a o a i a u a e "
     ]
    },
    {
     "data": {
      "text/plain": [
       "1"
      ]
     },
     "execution_count": 15,
     "metadata": {},
     "output_type": "execute_result"
    }
   ],
   "source": [
    "ext_vowel(l)"
   ]
  },
  {
   "cell_type": "code",
   "execution_count": 16,
   "id": "94db96c9",
   "metadata": {},
   "outputs": [
    {
     "name": "stdout",
     "output_type": "stream",
     "text": [
      "102 105 108 111 114 117 120 123 126 129 132 135 138 141 144 147 150 153 156 159 162 165 168 171 174 177 180 183 186 189 192 195 198 201 204 207 210 213 216 219 222 225 228 231 234 237 240 243 246 249 252 255 258 261 264 267 270 273 276 279 282 285 288 291 294 297 300 "
     ]
    },
    {
     "data": {
      "text/plain": [
       "1"
      ]
     },
     "execution_count": 16,
     "metadata": {},
     "output_type": "execute_result"
    }
   ],
   "source": [
    "divisible_3(100,300)"
   ]
  },
  {
   "cell_type": "code",
   "execution_count": 17,
   "id": "430ddaae",
   "metadata": {},
   "outputs": [
    {
     "name": "stdout",
     "output_type": "stream",
     "text": [
      "10:27:49\n"
     ]
    }
   ],
   "source": [
    "# q7 : write a code to get a time of your system \n",
    "from datetime import datetime as dt\n",
    "print(dt.now().strftime(\"%H:%M:%S\"))"
   ]
  },
  {
   "cell_type": "code",
   "execution_count": 18,
   "id": "8aef2d8c",
   "metadata": {},
   "outputs": [
    {
     "name": "stdout",
     "output_type": "stream",
     "text": [
      "2022-05-30\n"
     ]
    }
   ],
   "source": [
    "# q8 : Write a code to fetch date form your system\n",
    "from datetime import datetime as dt\n",
    "print(dt.now().strftime(\"%Y-%m-%d\"))"
   ]
  },
  {
   "cell_type": "code",
   "execution_count": 42,
   "id": "a0c6ce12",
   "metadata": {},
   "outputs": [
    {
     "ename": "TypeError",
     "evalue": "a bytes-like object is required, not 'str'",
     "output_type": "error",
     "traceback": [
      "\u001b[1;31m---------------------------------------------------------------------------\u001b[0m",
      "\u001b[1;31mTypeError\u001b[0m                                 Traceback (most recent call last)",
      "Input \u001b[1;32mIn [42]\u001b[0m, in \u001b[0;36m<cell line: 8>\u001b[1;34m()\u001b[0m\n\u001b[0;32m      4\u001b[0m server \u001b[38;5;241m=\u001b[39m smtplib\u001b[38;5;241m.\u001b[39mSMTP(\u001b[38;5;124m'\u001b[39m\u001b[38;5;124msmtp.gmail.com\u001b[39m\u001b[38;5;124m'\u001b[39m,\u001b[38;5;241m587\u001b[39m)\n\u001b[0;32m      6\u001b[0m server\u001b[38;5;241m.\u001b[39mstarttls()\n\u001b[1;32m----> 8\u001b[0m \u001b[43mserver\u001b[49m\u001b[38;5;241;43m.\u001b[39;49m\u001b[43mlogin\u001b[49m\u001b[43m(\u001b[49m\u001b[38;5;124;43m'\u001b[39;49m\u001b[38;5;124;43msudhanshurajverma1997@gmail.com\u001b[39;49m\u001b[38;5;124;43m'\u001b[39;49m\u001b[43m,\u001b[49m\u001b[38;5;124;43m\"\u001b[39;49m\u001b[38;5;124;43m\"\u001b[39;49m\u001b[43m)\u001b[49m\n\u001b[0;32m     10\u001b[0m server\u001b[38;5;241m.\u001b[39msendmail(\u001b[38;5;124m'\u001b[39m\u001b[38;5;124msudhanshurajverma1997@gmail.com\u001b[39m\u001b[38;5;124m'\u001b[39m,\u001b[38;5;124m'\u001b[39m\u001b[38;5;124mrajftpl10@gmail.com\u001b[39m\u001b[38;5;124m'\u001b[39m,\u001b[38;5;124m'\u001b[39m\u001b[38;5;124mTEST EMAIL from Python\u001b[39m\u001b[38;5;124m'\u001b[39m)\n\u001b[0;32m     12\u001b[0m \u001b[38;5;28mprint\u001b[39m(\u001b[38;5;124m'\u001b[39m\u001b[38;5;124mMail sent\u001b[39m\u001b[38;5;124m'\u001b[39m)\n",
      "File \u001b[1;32m~\\anaconda3\\lib\\smtplib.py:739\u001b[0m, in \u001b[0;36mSMTP.login\u001b[1;34m(self, user, password, initial_response_ok)\u001b[0m\n\u001b[0;32m    737\u001b[0m method_name \u001b[38;5;241m=\u001b[39m \u001b[38;5;124m'\u001b[39m\u001b[38;5;124mauth_\u001b[39m\u001b[38;5;124m'\u001b[39m \u001b[38;5;241m+\u001b[39m authmethod\u001b[38;5;241m.\u001b[39mlower()\u001b[38;5;241m.\u001b[39mreplace(\u001b[38;5;124m'\u001b[39m\u001b[38;5;124m-\u001b[39m\u001b[38;5;124m'\u001b[39m, \u001b[38;5;124m'\u001b[39m\u001b[38;5;124m_\u001b[39m\u001b[38;5;124m'\u001b[39m)\n\u001b[0;32m    738\u001b[0m \u001b[38;5;28;01mtry\u001b[39;00m:\n\u001b[1;32m--> 739\u001b[0m     (code, resp) \u001b[38;5;241m=\u001b[39m \u001b[38;5;28;43mself\u001b[39;49m\u001b[38;5;241;43m.\u001b[39;49m\u001b[43mauth\u001b[49m\u001b[43m(\u001b[49m\n\u001b[0;32m    740\u001b[0m \u001b[43m        \u001b[49m\u001b[43mauthmethod\u001b[49m\u001b[43m,\u001b[49m\u001b[43m \u001b[49m\u001b[38;5;28;43mgetattr\u001b[39;49m\u001b[43m(\u001b[49m\u001b[38;5;28;43mself\u001b[39;49m\u001b[43m,\u001b[49m\u001b[43m \u001b[49m\u001b[43mmethod_name\u001b[49m\u001b[43m)\u001b[49m\u001b[43m,\u001b[49m\n\u001b[0;32m    741\u001b[0m \u001b[43m        \u001b[49m\u001b[43minitial_response_ok\u001b[49m\u001b[38;5;241;43m=\u001b[39;49m\u001b[43minitial_response_ok\u001b[49m\u001b[43m)\u001b[49m\n\u001b[0;32m    742\u001b[0m     \u001b[38;5;66;03m# 235 == 'Authentication successful'\u001b[39;00m\n\u001b[0;32m    743\u001b[0m     \u001b[38;5;66;03m# 503 == 'Error: already authenticated'\u001b[39;00m\n\u001b[0;32m    744\u001b[0m     \u001b[38;5;28;01mif\u001b[39;00m code \u001b[38;5;129;01min\u001b[39;00m (\u001b[38;5;241m235\u001b[39m, \u001b[38;5;241m503\u001b[39m):\n",
      "File \u001b[1;32m~\\anaconda3\\lib\\smtplib.py:653\u001b[0m, in \u001b[0;36mSMTP.auth\u001b[1;34m(self, mechanism, authobject, initial_response_ok)\u001b[0m\n\u001b[0;32m    650\u001b[0m challenge \u001b[38;5;241m=\u001b[39m base64\u001b[38;5;241m.\u001b[39mdecodebytes(resp)\n\u001b[0;32m    651\u001b[0m response \u001b[38;5;241m=\u001b[39m encode_base64(\n\u001b[0;32m    652\u001b[0m     authobject(challenge)\u001b[38;5;241m.\u001b[39mencode(\u001b[38;5;124m'\u001b[39m\u001b[38;5;124mascii\u001b[39m\u001b[38;5;124m'\u001b[39m), eol\u001b[38;5;241m=\u001b[39m\u001b[38;5;124m'\u001b[39m\u001b[38;5;124m'\u001b[39m)\n\u001b[1;32m--> 653\u001b[0m (code, resp) \u001b[38;5;241m=\u001b[39m \u001b[38;5;28;43mself\u001b[39;49m\u001b[38;5;241;43m.\u001b[39;49m\u001b[43mdocmd\u001b[49m\u001b[43m(\u001b[49m\u001b[43mresponse\u001b[49m\u001b[43m)\u001b[49m\n\u001b[0;32m    654\u001b[0m \u001b[38;5;66;03m# If server keeps sending challenges, something is wrong.\u001b[39;00m\n\u001b[0;32m    655\u001b[0m \u001b[38;5;28;01mif\u001b[39;00m \u001b[38;5;28mself\u001b[39m\u001b[38;5;241m.\u001b[39m_auth_challenge_count \u001b[38;5;241m>\u001b[39m _MAXCHALLENGE:\n",
      "File \u001b[1;32m~\\anaconda3\\lib\\smtplib.py:431\u001b[0m, in \u001b[0;36mSMTP.docmd\u001b[1;34m(self, cmd, args)\u001b[0m\n\u001b[0;32m    429\u001b[0m \u001b[38;5;28;01mdef\u001b[39;00m \u001b[38;5;21mdocmd\u001b[39m(\u001b[38;5;28mself\u001b[39m, cmd, args\u001b[38;5;241m=\u001b[39m\u001b[38;5;124m\"\u001b[39m\u001b[38;5;124m\"\u001b[39m):\n\u001b[0;32m    430\u001b[0m     \u001b[38;5;124;03m\"\"\"Send a command, and return its response code.\"\"\"\u001b[39;00m\n\u001b[1;32m--> 431\u001b[0m     \u001b[38;5;28;43mself\u001b[39;49m\u001b[38;5;241;43m.\u001b[39;49m\u001b[43mputcmd\u001b[49m\u001b[43m(\u001b[49m\u001b[43mcmd\u001b[49m\u001b[43m,\u001b[49m\u001b[43m \u001b[49m\u001b[43margs\u001b[49m\u001b[43m)\u001b[49m\n\u001b[0;32m    432\u001b[0m     \u001b[38;5;28;01mreturn\u001b[39;00m \u001b[38;5;28mself\u001b[39m\u001b[38;5;241m.\u001b[39mgetreply()\n",
      "File \u001b[1;32m~\\anaconda3\\lib\\smtplib.py:373\u001b[0m, in \u001b[0;36mSMTP.putcmd\u001b[1;34m(self, cmd, args)\u001b[0m\n\u001b[0;32m    371\u001b[0m \u001b[38;5;28;01melse\u001b[39;00m:\n\u001b[0;32m    372\u001b[0m     s \u001b[38;5;241m=\u001b[39m \u001b[38;5;124mf\u001b[39m\u001b[38;5;124m'\u001b[39m\u001b[38;5;132;01m{\u001b[39;00mcmd\u001b[38;5;132;01m}\u001b[39;00m\u001b[38;5;124m \u001b[39m\u001b[38;5;132;01m{\u001b[39;00margs\u001b[38;5;132;01m}\u001b[39;00m\u001b[38;5;124m'\u001b[39m\n\u001b[1;32m--> 373\u001b[0m \u001b[38;5;28;01mif\u001b[39;00m \u001b[38;5;124;43m'\u001b[39;49m\u001b[38;5;130;43;01m\\r\u001b[39;49;00m\u001b[38;5;124;43m'\u001b[39;49m\u001b[43m \u001b[49m\u001b[38;5;129;43;01min\u001b[39;49;00m\u001b[43m \u001b[49m\u001b[43ms\u001b[49m \u001b[38;5;129;01mor\u001b[39;00m \u001b[38;5;124m'\u001b[39m\u001b[38;5;130;01m\\n\u001b[39;00m\u001b[38;5;124m'\u001b[39m \u001b[38;5;129;01min\u001b[39;00m s:\n\u001b[0;32m    374\u001b[0m     s \u001b[38;5;241m=\u001b[39m s\u001b[38;5;241m.\u001b[39mreplace(\u001b[38;5;124m'\u001b[39m\u001b[38;5;130;01m\\n\u001b[39;00m\u001b[38;5;124m'\u001b[39m, \u001b[38;5;124m'\u001b[39m\u001b[38;5;130;01m\\\\\u001b[39;00m\u001b[38;5;124mn\u001b[39m\u001b[38;5;124m'\u001b[39m)\u001b[38;5;241m.\u001b[39mreplace(\u001b[38;5;124m'\u001b[39m\u001b[38;5;130;01m\\r\u001b[39;00m\u001b[38;5;124m'\u001b[39m, \u001b[38;5;124m'\u001b[39m\u001b[38;5;130;01m\\\\\u001b[39;00m\u001b[38;5;124mr\u001b[39m\u001b[38;5;124m'\u001b[39m)\n\u001b[0;32m    375\u001b[0m     \u001b[38;5;28;01mraise\u001b[39;00m \u001b[38;5;167;01mValueError\u001b[39;00m(\n\u001b[0;32m    376\u001b[0m         \u001b[38;5;124mf\u001b[39m\u001b[38;5;124m'\u001b[39m\u001b[38;5;124mcommand and arguments contain prohibited newline characters: \u001b[39m\u001b[38;5;132;01m{\u001b[39;00ms\u001b[38;5;132;01m}\u001b[39;00m\u001b[38;5;124m'\u001b[39m\n\u001b[0;32m    377\u001b[0m     )\n",
      "\u001b[1;31mTypeError\u001b[0m: a bytes-like object is required, not 'str'"
     ]
    }
   ],
   "source": [
    "# q9 : Write a code to send a mail to your friend\n",
    "\n",
    "import smtplib\n",
    "server = smtplib.SMTP('smtp.gmail.com',587)\n",
    "\n",
    "server.starttls()\n",
    "\n",
    "server.login('sudhanshurajverma1997@gmail.com',\"\")\n",
    "\n",
    "server.sendmail('sudhanshurajverma1997@gmail.com','rajftpl10@gmail.com','TEST EMAIL from Python')\n",
    "\n",
    "print('Mail sent')"
   ]
  },
  {
   "cell_type": "code",
   "execution_count": 38,
   "id": "a34ee6de",
   "metadata": {},
   "outputs": [
    {
     "name": "stdout",
     "output_type": "stream",
     "text": [
      "C:\\Users\\Himanshu Verma\\Do-Mi-So.mp3\n"
     ]
    }
   ],
   "source": [
    "# q10 : write a code to trigger alarm for you at scheduled time\n",
    "\n",
    "import time\n",
    "import playsound\n",
    "import os\n",
    "\n",
    "alarm_time = time.asctime()[11:-8]\n",
    "if time.asctime()[11:-8] == alarm_time :\n",
    "    absolute_path = os.path.abspath('Do-Mi-So.mp3')\n",
    "    print(absolute_path)\n",
    "    playsound.playsound(absolute_path)"
   ]
  },
  {
   "cell_type": "code",
   "execution_count": 31,
   "id": "a8ef1fc9",
   "metadata": {},
   "outputs": [
    {
     "data": {
      "text/plain": [
       "'Sun Jun  5 11:55:34 2022'"
      ]
     },
     "execution_count": 31,
     "metadata": {},
     "output_type": "execute_result"
    }
   ],
   "source": [
    "time.asctime()"
   ]
  },
  {
   "cell_type": "code",
   "execution_count": 21,
   "id": "ebffb9a0",
   "metadata": {},
   "outputs": [
    {
     "name": "stdout",
     "output_type": "stream",
     "text": [
      "Your Computer Name is:DESKTOP-7EDI371\n",
      "Your Computer IP Address is:192.168.56.1\n"
     ]
    }
   ],
   "source": [
    "# q11 : write a code to check ip address of your system\n",
    "\n",
    "import socket   \n",
    "hostname = socket.gethostname()   \n",
    "IPAddr = socket.gethostbyname(hostname)   \n",
    "print(\"Your Computer Name is:\" + hostname)   \n",
    "print(\"Your Computer IP Address is:\" + IPAddr)"
   ]
  },
  {
   "cell_type": "code",
   "execution_count": 40,
   "id": "b57b261a",
   "metadata": {},
   "outputs": [
    {
     "name": "stdout",
     "output_type": "stream",
     "text": [
      "Collecting winapps\n",
      "  Downloading winapps-0.2.0-py3-none-any.whl (9.1 kB)\n",
      "Collecting plumbum<2.0,>=1.6\n",
      "  Downloading plumbum-1.7.2-py2.py3-none-any.whl (117 kB)Note: you may need to restart the kernel to use updated packages.\n",
      "\n",
      "Requirement already satisfied: pywin32 in c:\\users\\himanshu verma\\anaconda3\\lib\\site-packages (from plumbum<2.0,>=1.6->winapps) (302)\n",
      "Installing collected packages: plumbum, winapps\n",
      "Successfully installed plumbum-1.7.2 winapps-0.2.0\n"
     ]
    }
   ],
   "source": [
    "pip install winapps"
   ]
  },
  {
   "cell_type": "code",
   "execution_count": 41,
   "id": "624b05c9",
   "metadata": {},
   "outputs": [
    {
     "data": {
      "text/plain": [
       "[InstalledApplication(name='7-Zip 19.00 (x64)', version='19.00', install_date=None, install_location=WindowsPath('D:/Program Files/7-Zip'), install_source=None, modify_path=None, publisher='Igor Pavlov', uninstall_string='D:\\\\Program Files\\\\7-Zip\\\\Uninstall.exe'),\n",
       " InstalledApplication(name='CCleaner', version='6.00', install_date=None, install_location=WindowsPath('C:/Program Files/CCleaner'), install_source=None, modify_path=None, publisher='Piriform', uninstall_string='\"C:\\\\Program Files\\\\CCleaner\\\\uninst.exe\"'),\n",
       " InstalledApplication(name='Genshin Impact', version='2.14.4.0', install_date=None, install_location=None, install_source=None, modify_path=None, publisher='miHoYo Co.,Ltd', uninstall_string='D:\\\\Program Files\\\\Genshin Impact\\\\uninstall.exe'),\n",
       " InstalledApplication(name='Mozilla Firefox (x64 en-US)', version='101.0', install_date=None, install_location=WindowsPath('C:/Program Files/Mozilla Firefox'), install_source=None, modify_path=None, publisher='Mozilla', uninstall_string='\"C:\\\\Program Files\\\\Mozilla Firefox\\\\uninstall\\\\helper.exe\"'),\n",
       " InstalledApplication(name='Mozilla Maintenance Service', version='91.0.2', install_date=None, install_location=None, install_source=None, modify_path=None, publisher='Mozilla', uninstall_string='\"C:\\\\Program Files (x86)\\\\Mozilla Maintenance Service\\\\uninstall.exe\"'),\n",
       " InstalledApplication(name='TeamViewer', version='15.30.3', install_date=None, install_location=WindowsPath('C:/Program Files/TeamViewer'), install_source=None, modify_path=None, publisher='TeamViewer', uninstall_string='\"C:\\\\Program Files\\\\TeamViewer\\\\uninstall.exe\"'),\n",
       " InstalledApplication(name='VSDC Free Video Editor version 6.9.5.382', version='6.9.5.382', install_date=datetime.date(2022, 1, 26), install_location=WindowsPath('C:/Program Files/FlashIntegro'), install_source=None, modify_path=None, publisher='Flash-Integro LLC', uninstall_string='\"C:\\\\Program Files\\\\FlashIntegro\\\\unins000.exe\"'),\n",
       " InstalledApplication(name='WinRAR 6.02 (64-bit)', version='6.02.0', install_date=None, install_location=WindowsPath('C:/Program Files/WinRAR'), install_source=None, modify_path=None, publisher='win.rar GmbH', uninstall_string='C:\\\\Program Files\\\\WinRAR\\\\uninstall.exe'),\n",
       " InstalledApplication(name='VLC media player 3.0.16 (64-bit)', version='3.0.16.0', install_date=datetime.date(2021, 11, 11), install_location=WindowsPath('C:/Program Files/VideoLAN/VLC'), install_source=WindowsPath('C:/Users/Himanshu Verma/Downloads'), modify_path='MsiExec.exe /I{1BB20266-7C52-4909-B075-22156F75D22C}', publisher='VideoLAN', uninstall_string='MsiExec.exe /I{1BB20266-7C52-4909-B075-22156F75D22C}'),\n",
       " InstalledApplication(name='Microsoft Visual C++ 2010  x64 Redistributable - 10.0.40219', version='10.0.40219', install_date=datetime.date(2021, 5, 1), install_location='', install_source=WindowsPath('d:/78abac37827ba18d56'), modify_path='MsiExec.exe /X{1D8E6291-B0D5-35EC-8441-6616F567A0F7}', publisher='Microsoft Corporation', uninstall_string='MsiExec.exe /X{1D8E6291-B0D5-35EC-8441-6616F567A0F7}'),\n",
       " InstalledApplication(name='Java 8 Update 51 (64-bit)', version='8.0.510', install_date=datetime.date(2021, 6, 28), install_location='', install_source=WindowsPath('C:/Users/Himanshu Verma/AppData/LocalLow/Sun/Java/jre1.8.0_51_x64'), modify_path='MsiExec.exe /X{26A24AE4-039D-4CA4-87B4-2F86418051F0}', publisher='Oracle Corporation', uninstall_string='MsiExec.exe /X{26A24AE4-039D-4CA4-87B4-2F86418051F0}'),\n",
       " InstalledApplication(name='MySQL Server 8.0', version='8.0.29', install_date=datetime.date(2022, 5, 16), install_location=WindowsPath('C:/Program Files/MySQL/MySQL Server 8.0'), install_source=WindowsPath('C:/ProgramData/MySQL/MySQL Installer for Windows/Product Cache'), modify_path='MsiExec.exe /I{2ABD2E86-C875-45CB-830F-9D3EC1AE01C6}', publisher='Oracle Corporation', uninstall_string='MsiExec.exe /I{2ABD2E86-C875-45CB-830F-9D3EC1AE01C6}'),\n",
       " InstalledApplication(name='MySQL Router 8.0', version='8.0.29', install_date=datetime.date(2022, 5, 16), install_location=WindowsPath('C:/Program Files/MySQL/MySQL Router 8.0'), install_source=WindowsPath('C:/ProgramData/MySQL/MySQL Installer for Windows/Product Cache'), modify_path='MsiExec.exe /I{39405836-7A90-4297-A314-1ECCE184F9D3}', publisher='Oracle Corporation', uninstall_string='MsiExec.exe /I{39405836-7A90-4297-A314-1ECCE184F9D3}'),\n",
       " InstalledApplication(name='MySQL Shell 8.0.29', version='8.0.29', install_date=datetime.date(2022, 5, 16), install_location=WindowsPath('C:/Program Files/MySQL/MySQL Shell 8.0'), install_source=WindowsPath('C:/ProgramData/MySQL/MySQL Installer for Windows/Product Cache'), modify_path='MsiExec.exe /X{401F296A-93D8-4D60-B82C-5BFD05255C30}', publisher='Oracle and/or its affiliates', uninstall_string='MsiExec.exe /X{401F296A-93D8-4D60-B82C-5BFD05255C30}'),\n",
       " InstalledApplication(name='DB Browser for SQLite', version='3.12.2', install_date=datetime.date(2022, 4, 19), install_location=WindowsPath('C:/Program Files/DB Browser for SQLite'), install_source=WindowsPath('C:/Users/Himanshu Verma/Downloads'), modify_path='MsiExec.exe /I{5211034D-495B-4A5E-9B8D-8961BBB2B9E2}', publisher='DB Browser for SQLite Team', uninstall_string='MsiExec.exe /I{5211034D-495B-4A5E-9B8D-8961BBB2B9E2}'),\n",
       " InstalledApplication(name='Microsoft Visual C++ 2008 Redistributable - x64 9.0.30729.6161', version='9.0.30729.6161', install_date=datetime.date(2021, 7, 1), install_location='', install_source=WindowsPath('d:/210c0c1ac1113ff05c73'), modify_path='MsiExec.exe /X{5FCE6D76-F5DC-37AB-B2B8-22AB8CEDB1D4}', publisher='Microsoft Corporation', uninstall_string='MsiExec.exe /X{5FCE6D76-F5DC-37AB-B2B8-22AB8CEDB1D4}'),\n",
       " InstalledApplication(name='Oracle VM VirtualBox 6.1.26', version='6.1.26', install_date=datetime.date(2021, 8, 16), install_location='', install_source=WindowsPath('C:/Users/HIMANS~1/AppData/Local/Temp/VirtualBox'), modify_path='MsiExec.exe /I{71822DCA-AF02-40D5-9BB8-2C1F75356115}', publisher='Oracle Corporation', uninstall_string='MsiExec.exe /I{71822DCA-AF02-40D5-9BB8-2C1F75356115}'),\n",
       " InstalledApplication(name='MySQL Workbench 8.0 CE', version='8.0.29', install_date=datetime.date(2022, 5, 16), install_location=WindowsPath('C:/Program Files/MySQL/MySQL Workbench 8.0'), install_source=WindowsPath('C:/ProgramData/MySQL/MySQL Installer for Windows/Product Cache'), modify_path='MsiExec.exe /I{90789BBF-2DB7-4B1F-AD36-B850B683376C}', publisher='Oracle Corporation', uninstall_string='MsiExec.exe /I{90789BBF-2DB7-4B1F-AD36-B850B683376C}'),\n",
       " InstalledApplication(name='NVIDIA Graphics Driver 511.79', version='511.79', install_date=datetime.date(2022, 2, 28), install_location=WindowsPath('C:/Program Files/NVIDIA Corporation/Installer2/Display.Driver.{CC2194A5-24B1-4A4D-805F-8B64ABE3784A}'), install_source=WindowsPath('C:/Program Files/NVIDIA Corporation/Installer2/Display.Driver.{CC2194A5-24B1-4A4D-805F-8B64ABE3784A}'), modify_path='', publisher='NVIDIA Corporation', uninstall_string='\"C:\\\\Windows\\\\SysWOW64\\\\RunDll32.EXE\" \"C:\\\\Program Files\\\\NVIDIA Corporation\\\\Installer2\\\\InstallerCore\\\\NVI2.DLL\",UninstallPackage Display.Driver'),\n",
       " InstalledApplication(name='NVIDIA GeForce Experience 3.25.1.27', version='3.25.1.27', install_date=datetime.date(2022, 4, 7), install_location=WindowsPath('C:/Program Files/NVIDIA Corporation/Installer2/Display.GFExperience.{56AFF4B7-5F46-4B76-80D4-157AC5BFB272}'), install_source=WindowsPath('C:/Program Files/NVIDIA Corporation/Installer2/Display.GFExperience.{56AFF4B7-5F46-4B76-80D4-157AC5BFB272}'), modify_path='', publisher='NVIDIA Corporation', uninstall_string='\"C:\\\\Windows\\\\SysWOW64\\\\RunDll32.EXE\" \"C:\\\\Program Files\\\\NVIDIA Corporation\\\\Installer2\\\\InstallerCore\\\\NVI2.DLL\",UninstallPackage Display.GFExperience'),\n",
       " InstalledApplication(name='NVIDIA PhysX System Software 9.21.0713', version='9.21.0713', install_date=datetime.date(2022, 2, 28), install_location=WindowsPath('C:/Program Files (x86)/NVIDIA Corporation/PhysX'), install_source=WindowsPath('C:/Program Files/NVIDIA Corporation/Installer2/Display.PhysX.{B8C047E8-8D7C-48E8-A2FF-15C226C7388A}'), modify_path='', publisher='NVIDIA Corporation', uninstall_string='\"C:\\\\Windows\\\\SysWOW64\\\\RunDll32.EXE\" \"C:\\\\Program Files\\\\NVIDIA Corporation\\\\Installer2\\\\InstallerCore\\\\NVI2.DLL\",UninstallPackage Display.PhysX'),\n",
       " InstalledApplication(name='NVIDIA FrameView SDK 1.2.7521.31103277', version='1.2.7521.31103277', install_date=datetime.date(2022, 4, 7), install_location=WindowsPath('C:/Program Files/NVIDIA Corporation/FrameViewSDK'), install_source=WindowsPath('C:/Program Files/NVIDIA Corporation/Installer2/FrameViewSdk.{1E169A7C-7242-43C1-B946-62D7B645AD71}'), modify_path='', publisher='NVIDIA Corporation', uninstall_string='\"C:\\\\Windows\\\\SysWOW64\\\\RunDll32.EXE\" \"C:\\\\Program Files\\\\NVIDIA Corporation\\\\Installer2\\\\InstallerCore\\\\NVI2.DLL\",UninstallPackage FrameViewSdk'),\n",
       " InstalledApplication(name='NVIDIA HD Audio Driver 1.3.39.3', version='1.3.39.3', install_date=datetime.date(2022, 2, 28), install_location=WindowsPath('C:/Program Files/NVIDIA Corporation/Installer2/HDAudio.Driver.{793F1CFA-B8DF-427F-9E4C-CC3259367C97}'), install_source=WindowsPath('C:/Program Files/NVIDIA Corporation/Installer2/HDAudio.Driver.{793F1CFA-B8DF-427F-9E4C-CC3259367C97}'), modify_path='', publisher='NVIDIA Corporation', uninstall_string='\"C:\\\\Windows\\\\SysWOW64\\\\RunDll32.EXE\" \"C:\\\\Program Files\\\\NVIDIA Corporation\\\\Installer2\\\\InstallerCore\\\\NVI2.DLL\",UninstallPackage HDAudio.Driver'),\n",
       " InstalledApplication(name='Microsoft Update Health Tools', version='2.81.0.0', install_date=datetime.date(2021, 8, 2), install_location='', install_source=WindowsPath('C:/Windows/TEMP'), modify_path='MsiExec.exe /X{D06A5649-3BDB-4F2C-9C38-AB25CD5102E2}', publisher='Microsoft Corporation', uninstall_string='MsiExec.exe /X{D06A5649-3BDB-4F2C-9C38-AB25CD5102E2}'),\n",
       " InstalledApplication(name='MySQL Connector Python v8.0.29', version='8.0.29', install_date=datetime.date(2022, 5, 16), install_location=WindowsPath('C:/Program Files/MySQL/Connector Python 8.0'), install_source=WindowsPath('C:/ProgramData/MySQL/MySQL Installer for Windows/Product Cache'), modify_path='MsiExec.exe /I{D985A768-CAB6-4A81-82BE-38066B2A36D3}', publisher='Oracle', uninstall_string='MsiExec.exe /I{D985A768-CAB6-4A81-82BE-38066B2A36D3}'),\n",
       " InstalledApplication(name='Assassins Creed Valhalla', version='0.0.0', install_date=datetime.date(2021, 6, 30), install_location=WindowsPath('D:/Program Files (x86)/Google/Assassins Creed Valhalla'), install_source=None, modify_path=None, publisher='DODI-Repacks', uninstall_string='\"D:\\\\Program Files (x86)\\\\Google\\\\Assassins Creed Valhalla\\\\Uninstall\\\\unins000.exe\"'),\n",
       " InstalledApplication(name='Aweray Remote', version='2.0.0.40882', install_date=None, install_location=WindowsPath('C:/Program Files/Aweray/AweSun'), install_source=None, modify_path=None, publisher='Aweray. All Rights Reserved.', uninstall_string='C:\\\\Program Files\\\\Aweray\\\\AweSun\\\\AweSun.exe --mod=uninstall'),\n",
       " InstalledApplication(name='Brave', version='102.1.39.111', install_date=datetime.date(2022, 5, 25), install_location=WindowsPath('C:/Program Files/BraveSoftware/Brave-Browser/Application'), install_source=None, modify_path=None, publisher='Brave Software Inc', uninstall_string='\"C:\\\\Program Files\\\\BraveSoftware\\\\Brave-Browser\\\\Application\\\\102.1.39.111\\\\Installer\\\\setup.exe\" --uninstall --system-level'),\n",
       " InstalledApplication(name='Diablo III: Eternal Collection', version=None, install_date=datetime.date(2021, 7, 30), install_location=WindowsPath('D:/Game/Diablo III - Eternal Collection'), install_source=None, modify_path=None, publisher=None, uninstall_string='\"D:\\\\Game\\\\Diablo III - Eternal Collection\\\\unins000.exe\"'),\n",
       " InstalledApplication(name='Dragon Ball Z: Kakarot', version=None, install_date=datetime.date(2022, 4, 13), install_location=WindowsPath('D:/Games/Dragon Ball Z - Kakarot'), install_source=None, modify_path=None, publisher=None, uninstall_string='\"D:\\\\Games\\\\Dragon Ball Z - Kakarot\\\\unins000.exe\"'),\n",
       " InstalledApplication(name=\"Dragon's Dogma: Dark Arisen\", version=None, install_date=datetime.date(2022, 4, 10), install_location=WindowsPath(\"D:/Games/Dragon's Dogma - Dark Arisen\"), install_source=None, modify_path=None, publisher=None, uninstall_string='\"D:\\\\Games\\\\Dragon\\'s Dogma - Dark Arisen\\\\unins000.exe\"'),\n",
       " InstalledApplication(name='ELDEN RING', version=None, install_date=datetime.date(2022, 2, 28), install_location=WindowsPath('D:/Games/ELDEN RING'), install_source=None, modify_path=None, publisher=None, uninstall_string='\"D:\\\\Games\\\\ELDEN RING\\\\unins000.exe\"'),\n",
       " InstalledApplication(name='Ghostwire: Tokyo', version=None, install_date=datetime.date(2022, 4, 7), install_location=WindowsPath('D:/Games/Ghostwire - Tokyo'), install_source=None, modify_path=None, publisher=None, uninstall_string='\"D:\\\\Games\\\\Ghostwire - Tokyo\\\\unins000.exe\"'),\n",
       " InstalledApplication(name='God of War', version=None, install_date=datetime.date(2022, 2, 13), install_location=WindowsPath('D:/Games/God of War'), install_source=None, modify_path=None, publisher=None, uninstall_string='\"D:\\\\Games\\\\God of War\\\\unins000.exe\"'),\n",
       " InstalledApplication(name='Google Chrome', version='102.0.5005.63', install_date=datetime.date(2022, 6, 2), install_location=WindowsPath('C:/Program Files/Google/Chrome/Application'), install_source=None, modify_path=None, publisher='Google LLC', uninstall_string='\"C:\\\\Program Files\\\\Google\\\\Chrome\\\\Application\\\\102.0.5005.63\\\\Installer\\\\setup.exe\" --uninstall --channel=stable --system-level --verbose-logging'),\n",
       " InstalledApplication(name='Grand Theft Auto V', version=None, install_date=datetime.date(2022, 3, 2), install_location=WindowsPath('D:/Games/Grand Theft Auto V'), install_source=None, modify_path=None, publisher=None, uninstall_string='\"D:\\\\Games\\\\Grand Theft Auto V\\\\unins000.exe\"'),\n",
       " InstalledApplication(name='Microsoft Edge Update', version='1.3.161.35', install_date=None, install_location=None, install_source=None, modify_path=None, publisher=None, uninstall_string=None),\n",
       " InstalledApplication(name='Microsoft Edge WebView2 Runtime', version='92.0.902.78', install_date=datetime.date(2021, 8, 22), install_location=WindowsPath('C:/Program Files (x86)/Microsoft/EdgeWebView/Application'), install_source=None, modify_path='\"C:\\\\Program Files (x86)\\\\Microsoft\\\\EdgeUpdate\\\\MicrosoftEdgeUpdate.exe\" /install appguid={F3017226-FE2A-4295-8BDF-00C3A9A7E4C5}&appname=Microsoft%20Edge%20WebView&needsadmin=true&repairtype=windowsonlinerepair /installsource otherinstallcmd', publisher='Microsoft Corporation', uninstall_string='\"C:\\\\Program Files (x86)\\\\Microsoft\\\\EdgeWebView\\\\Application\\\\92.0.902.78\\\\Installer\\\\setup.exe\" --uninstall --msedgewebview --system-level --verbose-logging'),\n",
       " InstalledApplication(name='Gameloop', version='4.1.54.90', install_date=None, install_location=None, install_source=None, modify_path=None, publisher='Tencent Technology Company', uninstall_string='d:\\\\program files\\\\txgameassistant\\\\appmarket\\\\GF186\\\\TUninstall.exe'),\n",
       " InstalledApplication(name='NieR: Automata', version=None, install_date=datetime.date(2022, 3, 5), install_location=WindowsPath('D:/Games/NieR - Automata'), install_source=None, modify_path=None, publisher=None, uninstall_string='\"D:\\\\Games\\\\NieR - Automata\\\\unins000.exe\"'),\n",
       " InstalledApplication(name='One Piece - Pirate Warriors 4', version=None, install_date=datetime.date(2022, 4, 24), install_location=WindowsPath('D:/Games/One Piece - Pirate Warriors 4'), install_source=None, modify_path=None, publisher=None, uninstall_string='\"D:\\\\Games\\\\One Piece - Pirate Warriors 4\\\\unins000.exe\"'),\n",
       " InstalledApplication(name='ONE PIECE: World Seeker', version=None, install_date=datetime.date(2022, 4, 24), install_location=WindowsPath('D:/Games/ONE PIECE - World Seeker'), install_source=None, modify_path=None, publisher=None, uninstall_string='\"D:\\\\Games\\\\ONE PIECE - World Seeker\\\\unins000.exe\"'),\n",
       " InstalledApplication(name='Origin', version='10.5.112.50486', install_date=None, install_location=WindowsPath('D:/Origin'), install_source=None, modify_path=None, publisher='Electronic Arts, Inc.', uninstall_string='D:\\\\Origin\\\\OriginUninstall.exe'),\n",
       " InstalledApplication(name='ProtonVPN', version='1.22.2', install_date=None, install_location=WindowsPath('D:/Program Files (x86)/Proton Technologies/ProtonVPN'), install_source=None, modify_path=None, publisher='Proton Technologies AG', uninstall_string='msiexec.exe /i {657E5009-3D96-41DA-BDD9-36113EE99AE3} AI_UNINSTALLER_CTP=1'),\n",
       " InstalledApplication(name='PyCharm Community Edition 2022.1.1', version='221.5591.52', install_date=None, install_location=WindowsPath('C:/Program Files/JetBrains/PyCharm Community Edition 2022.1.1'), install_source=None, modify_path=None, publisher='JetBrains s.r.o.', uninstall_string='C:\\\\Program Files\\\\JetBrains\\\\PyCharm Community Edition 2022.1.1\\\\bin\\\\Uninstall.exe'),\n",
       " InstalledApplication(name='qBittorrent 4.4.1', version='4.4.1', install_date=None, install_location=None, install_source=None, modify_path=None, publisher='The qBittorrent project', uninstall_string='\"D:\\\\Program Files\\\\qBittorrent\\\\uninst.exe\"'),\n",
       " InstalledApplication(name='RivaTuner Statistics Server 7.3.2 Beta 2', version='7.3.2 Beta 2', install_date=None, install_location=None, install_source=None, modify_path=None, publisher='Unwinder', uninstall_string='\"C:\\\\Program Files (x86)\\\\RivaTuner Statistics Server\\\\uninstall.exe\"'),\n",
       " InstalledApplication(name='Shadow Warrior 3', version=None, install_date=datetime.date(2022, 4, 7), install_location=WindowsPath('D:/Games/Shadow Warrior 3'), install_source=None, modify_path=None, publisher=None, uninstall_string='\"D:\\\\Games\\\\Shadow Warrior 3\\\\unins000.exe\"'),\n",
       " InstalledApplication(name='Sniper Ghost Warrior Contracts 2', version=None, install_date=datetime.date(2021, 8, 1), install_location=WindowsPath('D:/Games/Sniper Ghost Warrior Contracts 2'), install_source=None, modify_path=None, publisher=None, uninstall_string='\"D:\\\\Games\\\\Sniper Ghost Warrior Contracts 2\\\\unins000.exe\"'),\n",
       " InstalledApplication(name='Stranger of Paradise: FFO', version=None, install_date=datetime.date(2022, 4, 23), install_location=WindowsPath('D:/Games/Stranger of Paradise - Final Fantasy Origin'), install_source=None, modify_path=None, publisher=None, uninstall_string='\"D:\\\\Games\\\\Stranger of Paradise - Final Fantasy Origin\\\\unins000.exe\"'),\n",
       " InstalledApplication(name='TDPA: House of Ashes', version=None, install_date=datetime.date(2022, 4, 11), install_location=WindowsPath('D:/Games/The Dark Pictures Anthology - House of Ashes'), install_source=None, modify_path=None, publisher=None, uninstall_string='\"D:\\\\Games\\\\The Dark Pictures Anthology - House of Ashes\\\\unins000.exe\"'),\n",
       " InstalledApplication(name='The Elder Scrolls: Skyrim SE', version=None, install_date=datetime.date(2021, 6, 28), install_location=WindowsPath('D:/Games/The Elder Scrolls - Skyrim - Special Edition'), install_source=None, modify_path=None, publisher=None, uninstall_string='\"D:\\\\Games\\\\The Elder Scrolls - Skyrim - Special Edition\\\\unins000.exe\"'),\n",
       " InstalledApplication(name='Microsoft Visual C++ 2013 Redistributable (x64) - 12.0.40664', version='12.0.40664.0', install_date=None, install_location=None, install_source=None, modify_path='\"C:\\\\ProgramData\\\\Package Cache\\\\{042d26ef-3dbe-4c25-95d3-4c1b11b235a7}\\\\vcredist_x64.exe\" /modify', publisher='Microsoft Corporation', uninstall_string='\"C:\\\\ProgramData\\\\Package Cache\\\\{042d26ef-3dbe-4c25-95d3-4c1b11b235a7}\\\\vcredist_x64.exe\"  /uninstall'),\n",
       " InstalledApplication(name='Microsoft Visual C++ 2013 Redistributable (x64) - 12.0.30501', version='12.0.30501.0', install_date=None, install_location=None, install_source=None, modify_path='\"C:\\\\ProgramData\\\\Package Cache\\\\{050d4fc8-5d48-4b8f-8972-47c82c46020f}\\\\vcredist_x64.exe\" /modify', publisher='Microsoft Corporation', uninstall_string='\"C:\\\\ProgramData\\\\Package Cache\\\\{050d4fc8-5d48-4b8f-8972-47c82c46020f}\\\\vcredist_x64.exe\"  /uninstall'),\n",
       " InstalledApplication(name='ProtonVPNTun', version='0.10.0', install_date=datetime.date(2021, 8, 22), install_location=WindowsPath('C:/Program Files (x86)/Proton Technologies/ProtonVPNTun'), install_source=WindowsPath('C:/Users/HIMANS~1/AppData/Local/Temp/{10242617-4DA6-4E16-98D8-92B16E54BAEB}/E54BAEB'), modify_path='MsiExec.exe /X{10242617-4DA6-4E16-98D8-92B16E54BAEB}', publisher='Proton Technologies AG', uninstall_string='MsiExec.exe /X{10242617-4DA6-4E16-98D8-92B16E54BAEB}'),\n",
       " InstalledApplication(name='Jardinains 2! Lite version 1.1', version='1.1', install_date=datetime.date(2021, 5, 7), install_location=WindowsPath('D:/Jardinains 2! Lite'), install_source=None, modify_path=None, publisher='Magic Chopstick Games', uninstall_string='\"D:\\\\Jardinains 2! Lite\\\\unins000.exe\"'),\n",
       " InstalledApplication(name='Microsoft Visual C++ 2015-2019 Redistributable (x64) - 14.29.30139', version='14.29.30139.0', install_date=None, install_location=None, install_source=None, modify_path='\"C:\\\\ProgramData\\\\Package Cache\\\\{2c673fb6-3e65-4751-965d-33d30b68a8a6}\\\\VC_redist.x64.exe\" /modify', publisher='Microsoft Corporation', uninstall_string='\"C:\\\\ProgramData\\\\Package Cache\\\\{2c673fb6-3e65-4751-965d-33d30b68a8a6}\\\\VC_redist.x64.exe\"  /uninstall'),\n",
       " InstalledApplication(name='MySQL Installer - Community', version='1.6.2.0', install_date=datetime.date(2022, 5, 16), install_location='', install_source=WindowsPath('C:/Users/Himanshu Verma/Downloads'), modify_path='MsiExec.exe /I{31F353FB-E090-40C9-B802-E0BBBB16792C}', publisher='Oracle Corporation', uninstall_string='MsiExec.exe /I{31F353FB-E090-40C9-B802-E0BBBB16792C}'),\n",
       " InstalledApplication(name='Microsoft Visual C++ 2012 Redistributable (x86) - 11.0.61030', version='11.0.61030.0', install_date=None, install_location=None, install_source=None, modify_path='\"C:\\\\ProgramData\\\\Package Cache\\\\{33d1fd90-4274-48a1-9bc1-97e33d9c2d6f}\\\\vcredist_x86.exe\" /modify', publisher='Microsoft Corporation', uninstall_string='\"C:\\\\ProgramData\\\\Package Cache\\\\{33d1fd90-4274-48a1-9bc1-97e33d9c2d6f}\\\\vcredist_x86.exe\"  /uninstall'),\n",
       " InstalledApplication(name='Microsoft Visual C++ 2015-2019 Redistributable (x86) - 14.23.27820', version='14.23.27820.0', install_date=None, install_location=None, install_source=None, modify_path='\"C:\\\\ProgramData\\\\Package Cache\\\\{45231ab4-69fd-486a-859d-7a59fcd11013}\\\\VC_redist.x86.exe\" /modify', publisher='Microsoft Corporation', uninstall_string='\"C:\\\\ProgramData\\\\Package Cache\\\\{45231ab4-69fd-486a-859d-7a59fcd11013}\\\\VC_redist.x86.exe\"  /uninstall'),\n",
       " InstalledApplication(name='ProtonVPNTap', version='1.1.3', install_date=datetime.date(2021, 8, 22), install_location=WindowsPath('C:/Program Files (x86)/Proton Technologies/ProtonVPNTap'), install_source=WindowsPath('C:/Users/HIMANS~1/AppData/Local/Temp/{5DA710E2-1B81-4675-BFC5-76BAF63AE1F6}/63AE1F6'), modify_path='MsiExec.exe /X{5DA710E2-1B81-4675-BFC5-76BAF63AE1F6}', publisher='Proton Technologies AG', uninstall_string='MsiExec.exe /X{5DA710E2-1B81-4675-BFC5-76BAF63AE1F6}'),\n",
       " InstalledApplication(name='Python Launcher', version='3.10.7751.0', install_date=datetime.date(2022, 4, 6), install_location='', install_source=WindowsPath('C:/ProgramData/Package Cache/{691AAAA1-FE86-4973-8DA2-6AA2B3327562}v3.10.7751.0'), modify_path='MsiExec.exe /X{691AAAA1-FE86-4973-8DA2-6AA2B3327562}', publisher='Python Software Foundation', uninstall_string='MsiExec.exe /X{691AAAA1-FE86-4973-8DA2-6AA2B3327562}'),\n",
       " InstalledApplication(name='Microsoft Visual C++ 2005 Redistributable', version='8.0.59193', install_date=datetime.date(2021, 8, 22), install_location='', install_source=WindowsPath('C:/Users/HIMANS~1/AppData/Local/Temp/IXP000.TMP'), modify_path='MsiExec.exe /X{837b34e3-7c30-493c-8f6a-2b0f04e2912c}', publisher='Microsoft Corporation', uninstall_string='MsiExec.exe /X{837b34e3-7c30-493c-8f6a-2b0f04e2912c}'),\n",
       " InstalledApplication(name='Microsoft PowerPoint Viewer', version='14.0.4763.1000', install_date=datetime.date(2021, 5, 5), install_location='', install_source=WindowsPath('C:/Program Files (x86)/MSECache/PPTViewer'), modify_path='MsiExec.exe /X{95140000-00AF-0409-0000-0000000FF1CE}', publisher='Microsoft Corporation', uninstall_string='MsiExec.exe /X{95140000-00AF-0409-0000-0000000FF1CE}'),\n",
       " InstalledApplication(name='Microsoft Visual C++ 2008 Redistributable - x86 9.0.30729.6161', version='9.0.30729.6161', install_date=datetime.date(2021, 7, 1), install_location='', install_source=WindowsPath('d:/17cb45c95483cd35e466f009beca192c'), modify_path='MsiExec.exe /X{9BE518E6-ECC6-35A9-88E4-87755C07200F}', publisher='Microsoft Corporation', uninstall_string='MsiExec.exe /X{9BE518E6-ECC6-35A9-88E4-87755C07200F}'),\n",
       " InstalledApplication(name='TP-Link UB500 Bluetooth Driver', version='1015.1016.1016.210427', install_date=datetime.date(2022, 5, 28), install_location=WindowsPath('C:/Program Files (x86)/TP-Link/UB500'), install_source=WindowsPath('C:/Users/HIMANS~1/AppData/Local/Temp/RAR$EX~1.441/RTBLUE~1.202'), modify_path='C:\\\\Program Files (x86)\\\\InstallShield Installation Information\\\\{9D3D8C60-A5EF-4123-B2B9-172095903AB}\\\\Install.exe -uninst', publisher='TP-LINK TECHNOLOGIES CO., LTD.', uninstall_string='C:\\\\Program Files (x86)\\\\InstallShield Installation Information\\\\{9D3D8C60-A5EF-4123-B2B9-172095903AB}\\\\Install.exe -uninst'),\n",
       " InstalledApplication(name='Microsoft Visual C++ 2013 Redistributable (x86) - 12.0.40664', version='12.0.40664.0', install_date=None, install_location=None, install_source=None, modify_path='\"C:\\\\ProgramData\\\\Package Cache\\\\{9dff3540-fc85-4ed5-ac84-9e3c7fd8bece}\\\\vcredist_x86.exe\" /modify', publisher='Microsoft Corporation', uninstall_string='\"C:\\\\ProgramData\\\\Package Cache\\\\{9dff3540-fc85-4ed5-ac84-9e3c7fd8bece}\\\\vcredist_x86.exe\"  /uninstall'),\n",
       " InstalledApplication(name='Microsoft Visual C++ 2012 Redistributable (x64) - 11.0.61030', version='11.0.61030.0', install_date=None, install_location=None, install_source=None, modify_path='\"C:\\\\ProgramData\\\\Package Cache\\\\{ca67548a-5ebe-413a-b50c-4b9ceb6d66c6}\\\\vcredist_x64.exe\" /modify', publisher='Microsoft Corporation', uninstall_string='\"C:\\\\ProgramData\\\\Package Cache\\\\{ca67548a-5ebe-413a-b50c-4b9ceb6d66c6}\\\\vcredist_x64.exe\"  /uninstall'),\n",
       " InstalledApplication(name='Apex Legends', version='1.0.9.4', install_date=None, install_location=WindowsPath('D:/Program Files (x86)/Origin Games/Apex'), install_source=None, modify_path=None, publisher='Electronic Arts, Inc.', uninstall_string='\"C:\\\\Program Files\\\\Common Files\\\\EAInstaller\\\\Apex\\\\Cleanup.exe\" uninstall_game -autologging'),\n",
       " InstalledApplication(name='Microsoft Visual C++ 2010  x86 Redistributable - 10.0.40219', version='10.0.40219', install_date=datetime.date(2021, 5, 1), install_location='', install_source=WindowsPath('d:/aa246c8180627875a02d9b'), modify_path='MsiExec.exe /X{F0C3E5D1-1ADE-321E-8167-68EF0DE699A5}', publisher='Microsoft Corporation', uninstall_string='MsiExec.exe /X{F0C3E5D1-1ADE-321E-8167-68EF0DE699A5}'),\n",
       " InstalledApplication(name='Microsoft Visual C++ 2013 Redistributable (x86) - 12.0.30501', version='12.0.30501.0', install_date=None, install_location=None, install_source=None, modify_path='\"C:\\\\ProgramData\\\\Package Cache\\\\{f65db027-aff3-4070-886a-0d87064aabb1}\\\\vcredist_x86.exe\" /modify', publisher='Microsoft Corporation', uninstall_string='\"C:\\\\ProgramData\\\\Package Cache\\\\{f65db027-aff3-4070-886a-0d87064aabb1}\\\\vcredist_x86.exe\"  /uninstall')]"
      ]
     },
     "execution_count": 41,
     "metadata": {},
     "output_type": "execute_result"
    }
   ],
   "source": [
    "# q12 : Write a code to check a perticular installation in your system\n",
    "\n",
    "import winapps\n",
    "\n",
    "list(winapps.list_installed())"
   ]
  },
  {
   "cell_type": "code",
   "execution_count": 43,
   "id": "9c7a4298",
   "metadata": {},
   "outputs": [],
   "source": [
    "# q13 : Write a code to convert any text in to voice\n",
    "\n",
    "import pyttsx3    \n",
    "engine = pyttsx3.init()   \n",
    "text = \"let's have some fun\"\n",
    "engine.say(text)   \n",
    "engine.runAndWait() "
   ]
  },
  {
   "cell_type": "code",
   "execution_count": 27,
   "id": "7573c4d0",
   "metadata": {},
   "outputs": [],
   "source": [
    "# you have to write a fun which will take string and return a len of it without using a inbuilt fun len\n",
    "def str_len(l):\n",
    "    c=0\n",
    "    for i in l:\n",
    "        c=c+1\n",
    "    return c"
   ]
  },
  {
   "cell_type": "code",
   "execution_count": 25,
   "id": "d7ec142e",
   "metadata": {},
   "outputs": [
    {
     "data": {
      "text/plain": [
       "5"
      ]
     },
     "execution_count": 25,
     "metadata": {},
     "output_type": "execute_result"
    }
   ],
   "source": [
    "str_len('hello')"
   ]
  },
  {
   "cell_type": "code",
   "execution_count": 26,
   "id": "c8f89d29",
   "metadata": {},
   "outputs": [],
   "source": [
    "# q15 :write a fun which will be able to print an index of all premitive element which you will pass\n",
    "\n",
    "def ret_index(*args):\n",
    "    for i in range(0,len(args)):\n",
    "        if type(args[i])==int or type(args[i])==float or type(args[i])==str or type(args[i])==bool:\n",
    "            print('{} is of {} type at index {} '.format(args[i],type(args[i]),i))\n",
    "    return 1\n",
    "        "
   ]
  },
  {
   "cell_type": "code",
   "execution_count": 27,
   "id": "75ce129c",
   "metadata": {},
   "outputs": [
    {
     "name": "stdout",
     "output_type": "stream",
     "text": [
      "1 is of <class 'int'> type at index 0 \n",
      "2 is of <class 'int'> type at index 1 \n",
      "3 is of <class 'int'> type at index 2 \n",
      "sudhanshu is of <class 'str'> type at index 3 \n",
      "10.67 is of <class 'float'> type at index 4 \n",
      "False is of <class 'bool'> type at index 5 \n"
     ]
    },
    {
     "data": {
      "text/plain": [
       "1"
      ]
     },
     "execution_count": 27,
     "metadata": {},
     "output_type": "execute_result"
    }
   ],
   "source": [
    "ret_index(1,2,3,'sudhanshu',10.67,False)"
   ]
  },
  {
   "cell_type": "code",
   "execution_count": 28,
   "id": "09814a2d",
   "metadata": {},
   "outputs": [],
   "source": [
    "# q16 : Write a fun which will take input as a dict and give me out as a list of all the values even in case of 2 level nesting it should work .\n",
    "def d2l(d):\n",
    "    l1=[]\n",
    "    for i in d:\n",
    "        if type(d[i])==dict:\n",
    "            for j in d[i]:\n",
    "                l1.append(d[i][j])\n",
    "        else:\n",
    "            l1.append(d[i])\n",
    "    return l1"
   ]
  },
  {
   "cell_type": "code",
   "execution_count": 29,
   "id": "4230904d",
   "metadata": {},
   "outputs": [
    {
     "data": {
      "text/plain": [
       "[2, 34, 'gfg', 23, 32]"
      ]
     },
     "execution_count": 29,
     "metadata": {},
     "output_type": "execute_result"
    }
   ],
   "source": [
    "d2l({1:2,'sad':34,'dasds':'gfg',4:{6:23,8:32}})"
   ]
  },
  {
   "cell_type": "code",
   "execution_count": 45,
   "id": "173e14c9",
   "metadata": {},
   "outputs": [],
   "source": [
    "# q17 : write a function whihc will take multiple list as a input and give me concatnation of all the element as and output\n",
    "def list_concat(*args):\n",
    "    l1=[]\n",
    "    for i in args:\n",
    "        l1=l1+i\n",
    "    return l1"
   ]
  },
  {
   "cell_type": "code",
   "execution_count": 46,
   "id": "23f4ca9a",
   "metadata": {},
   "outputs": [
    {
     "data": {
      "text/plain": [
       "[1, 2, 3, 4, 'asdf', True, 56, 876, 'verma', False]"
      ]
     },
     "execution_count": 46,
     "metadata": {},
     "output_type": "execute_result"
    }
   ],
   "source": [
    "list_concat([1,2,3,4,'asdf',True],[56,876,'verma',False])"
   ]
  },
  {
   "cell_type": "code",
   "execution_count": 32,
   "id": "615b578b",
   "metadata": {},
   "outputs": [],
   "source": [
    "# q18 : Write a function which will should return list of all the file name from a directory \n",
    "import os\n",
    "def file_in_dir():\n",
    "    path = \"D://Games\"\n",
    "    dir_list = os.listdir(path)\n",
    "    return dir_list"
   ]
  },
  {
   "cell_type": "code",
   "execution_count": 33,
   "id": "a9a3b4f3",
   "metadata": {},
   "outputs": [
    {
     "data": {
      "text/plain": [
       "['Dragon Ball Z - Kakarot',\n",
       " 'ELDEN RING',\n",
       " 'God of War',\n",
       " 'Grand Theft Auto V',\n",
       " 'One Piece - Pirate Warriors 4',\n",
       " 'ONE PIECE - World Seeker']"
      ]
     },
     "execution_count": 33,
     "metadata": {},
     "output_type": "execute_result"
    }
   ],
   "source": [
    "file_in_dir()"
   ]
  },
  {
   "cell_type": "code",
   "execution_count": 47,
   "id": "e724912a",
   "metadata": {},
   "outputs": [],
   "source": [
    "# q19 : write a function whihc will be able to read a image file and show it to you .\n",
    "from PIL import Image\n",
    "def show_pic():\n",
    "    img = Image.open('SV.PNG')\n",
    "    img.show()\n",
    "    return 1"
   ]
  },
  {
   "cell_type": "code",
   "execution_count": 48,
   "id": "c781fe93",
   "metadata": {},
   "outputs": [
    {
     "data": {
      "text/plain": [
       "1"
      ]
     },
     "execution_count": 48,
     "metadata": {},
     "output_type": "execute_result"
    }
   ],
   "source": [
    "show_pic()"
   ]
  },
  {
   "cell_type": "code",
   "execution_count": 87,
   "id": "b20cac43",
   "metadata": {},
   "outputs": [],
   "source": [
    "# q20 : write a function by which you will be able to append two PDF files .\n",
    "from PyPDF2 import PdfMerger\n",
    "def merge_pdf():\n",
    "    pdfs = ['das.pdf', 'numcs.pdf']\n",
    "    merger = PdfMerger()\n",
    "    for pdf in pdfs:\n",
    "        merger.append(pdf)\n",
    "    merger.write(\"result.pdf\")\n",
    "    merger.close()\n",
    "    return 1"
   ]
  },
  {
   "cell_type": "code",
   "execution_count": 88,
   "id": "3b0c7672",
   "metadata": {},
   "outputs": [
    {
     "data": {
      "text/plain": [
       "1"
      ]
     },
     "execution_count": 88,
     "metadata": {},
     "output_type": "execute_result"
    }
   ],
   "source": [
    "merge_pdf()"
   ]
  },
  {
   "cell_type": "code",
   "execution_count": 89,
   "id": "ba12c60d",
   "metadata": {},
   "outputs": [],
   "source": [
    "# q21 : write a function which can help you to filter only word file from a directory .\n",
    "\n",
    "import os\n",
    "def file_filter():\n",
    "    for file in os.listdir(r'C:\\Users\\Himanshu Verma\\Downloads'):\n",
    "        if file.endswith(\".doc\"):\n",
    "            print(file)\n",
    "    return 1"
   ]
  },
  {
   "cell_type": "code",
   "execution_count": 90,
   "id": "8612a84b",
   "metadata": {},
   "outputs": [
    {
     "name": "stdout",
     "output_type": "stream",
     "text": [
      "srcongresume.doc\n"
     ]
    },
    {
     "data": {
      "text/plain": [
       "1"
      ]
     },
     "execution_count": 90,
     "metadata": {},
     "output_type": "execute_result"
    }
   ],
   "source": [
    "file_filter()"
   ]
  },
  {
   "cell_type": "code",
   "execution_count": 40,
   "id": "23a45f6a",
   "metadata": {},
   "outputs": [
    {
     "name": "stdout",
     "output_type": "stream",
     "text": [
      "Requirement already satisfied: opencv-python in c:\\users\\himanshu verma\\anaconda3\\lib\\site-packages (4.5.5.64)\n",
      "Requirement already satisfied: numpy>=1.19.3 in c:\\users\\himanshu verma\\anaconda3\\lib\\site-packages (from opencv-python) (1.21.5)\n",
      "Note: you may need to restart the kernel to use updated packages.\n"
     ]
    }
   ],
   "source": [
    "pip install opencv-python"
   ]
  },
  {
   "cell_type": "code",
   "execution_count": 95,
   "id": "0e091f51",
   "metadata": {},
   "outputs": [],
   "source": [
    "# q22 : write a function which can read video file and play for you . \n",
    "import cv2\n",
    "import numpy as np\n",
    "\n",
    "def play_video():\n",
    "    cap = cv2.VideoCapture('Elden Ring.mp4')\n",
    "    if (cap.isOpened()== False):\n",
    "        print(\"Error opening video  file\")\n",
    "    while(cap.isOpened()):\n",
    "        ret, frame = cap.read()\n",
    "        if ret == True:\n",
    "            cv2.imshow('Frame', frame)\n",
    "            if cv2.waitKey(25) & 0xFF == ord('q'):\n",
    "                break\n",
    "        else: \n",
    "            break\n",
    "    cap.release()\n",
    "    cv2.destroyAllWindows()\n",
    "    return 1"
   ]
  },
  {
   "cell_type": "code",
   "execution_count": 96,
   "id": "0d3294c2",
   "metadata": {},
   "outputs": [
    {
     "data": {
      "text/plain": [
       "1"
      ]
     },
     "execution_count": 96,
     "metadata": {},
     "output_type": "execute_result"
    }
   ],
   "source": [
    "play_video()"
   ]
  },
  {
   "cell_type": "code",
   "execution_count": 43,
   "id": "14e2a042",
   "metadata": {},
   "outputs": [],
   "source": [
    "# q23 : write a function which will be able to shutdonw your system .\n",
    "import os\n",
    "def shutdown_pc():\n",
    "    shutdown = input(\"Do you wish to shutdown your computer ? (yes / no): \")\n",
    "    if shutdown == 'no':\n",
    "        exit()\n",
    "    else:\n",
    "        os.system(\"shutdown /s /t 1\")"
   ]
  },
  {
   "cell_type": "code",
   "execution_count": 63,
   "id": "c28825d8",
   "metadata": {},
   "outputs": [
    {
     "ename": "NameError",
     "evalue": "name 'shutdown_pc' is not defined",
     "output_type": "error",
     "traceback": [
      "\u001b[1;31m---------------------------------------------------------------------------\u001b[0m",
      "\u001b[1;31mNameError\u001b[0m                                 Traceback (most recent call last)",
      "Input \u001b[1;32mIn [63]\u001b[0m, in \u001b[0;36m<cell line: 1>\u001b[1;34m()\u001b[0m\n\u001b[1;32m----> 1\u001b[0m \u001b[43mshutdown_pc\u001b[49m()\n",
      "\u001b[1;31mNameError\u001b[0m: name 'shutdown_pc' is not defined"
     ]
    }
   ],
   "source": [
    "shutdown_pc()"
   ]
  },
  {
   "cell_type": "code",
   "execution_count": 65,
   "id": "53fd8395",
   "metadata": {},
   "outputs": [],
   "source": [
    "!pip install gtts --upgrade --quiet"
   ]
  },
  {
   "cell_type": "code",
   "execution_count": 50,
   "id": "a0691618",
   "metadata": {},
   "outputs": [],
   "source": [
    "from gtts import gTTS\n",
    "from playsound import  playsound\n",
    "\n",
    "mytext='khul ja sim sim'\n",
    "language='en'\n",
    "myobj=gTTS(text=mytext,lang=language,slow=True)\n",
    "myobj.save(\"welcome3.mp3\")\n",
    "playsound(\"welcome3.mp3\")"
   ]
  },
  {
   "cell_type": "code",
   "execution_count": null,
   "id": "c60f342a",
   "metadata": {},
   "outputs": [],
   "source": []
  }
 ],
 "metadata": {
  "kernelspec": {
   "display_name": "Python 3 (ipykernel)",
   "language": "python",
   "name": "python3"
  },
  "language_info": {
   "codemirror_mode": {
    "name": "ipython",
    "version": 3
   },
   "file_extension": ".py",
   "mimetype": "text/x-python",
   "name": "python",
   "nbconvert_exporter": "python",
   "pygments_lexer": "ipython3",
   "version": "3.9.12"
  }
 },
 "nbformat": 4,
 "nbformat_minor": 5
}
