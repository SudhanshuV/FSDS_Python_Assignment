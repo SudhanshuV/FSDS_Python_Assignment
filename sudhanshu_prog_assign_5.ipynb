{
 "cells": [
  {
   "cell_type": "code",
   "execution_count": 18,
   "id": "4681cf3f",
   "metadata": {},
   "outputs": [],
   "source": [
    "#Q1 HCF or GCD\n",
    "\n",
    "def hcf(*args):\n",
    "    l=[]\n",
    "    m=[]\n",
    "    n=len(args)\n",
    "    for i in range(2,min(args)+1):\n",
    "        for j in args:\n",
    "            if j%i==0:\n",
    "                l.append(i)\n",
    "    for k in l:\n",
    "        o=l.count(k)\n",
    "        if o==n:\n",
    "            m.append(k)\n",
    "    return max(m)"
   ]
  },
  {
   "cell_type": "code",
   "execution_count": 26,
   "id": "21a133f9",
   "metadata": {},
   "outputs": [
    {
     "data": {
      "text/plain": [
       "5"
      ]
     },
     "execution_count": 26,
     "metadata": {},
     "output_type": "execute_result"
    }
   ],
   "source": [
    "hcf(25,30,35,40)"
   ]
  },
  {
   "cell_type": "code",
   "execution_count": 30,
   "id": "480ded97",
   "metadata": {},
   "outputs": [],
   "source": [
    "#Q2 LCM\n",
    "\n",
    "from math import gcd\n",
    "\n",
    "def lcm(*args):\n",
    "    l = 1\n",
    "    for i in args:\n",
    "        l = l*i//gcd(l, i)\n",
    "    return l"
   ]
  },
  {
   "cell_type": "code",
   "execution_count": 32,
   "id": "a53ef7f5",
   "metadata": {},
   "outputs": [
    {
     "data": {
      "text/plain": [
       "1400"
      ]
     },
     "execution_count": 32,
     "metadata": {},
     "output_type": "execute_result"
    }
   ],
   "source": [
    "lcm(25,20,35,40)"
   ]
  },
  {
   "cell_type": "code",
   "execution_count": 33,
   "id": "970a69d3",
   "metadata": {},
   "outputs": [
    {
     "name": "stdout",
     "output_type": "stream",
     "text": [
      "enter any decimal base number: 445\n",
      "0b110111101 is binary of given decimal\n",
      "0o675 is octal of given decimal\n",
      "0x1bd is hexadecimal of given decimal\n"
     ]
    }
   ],
   "source": [
    "#Q3 deci --> binary,octal and hex\n",
    "\n",
    "a=int(input('enter any decimal base number: '))\n",
    "print('{} is binary of given decimal'.format(bin(a)))\n",
    "print('{} is octal of given decimal'.format(oct(a)))\n",
    "print('{} is hexadecimal of given decimal'.format(hex(a)))"
   ]
  },
  {
   "cell_type": "code",
   "execution_count": 36,
   "id": "1544fc02",
   "metadata": {},
   "outputs": [
    {
     "name": "stdout",
     "output_type": "stream",
     "text": [
      "enter any decimal base number: A\n",
      "ASCII value of A is 65\n"
     ]
    }
   ],
   "source": [
    "#Q4 Ascii value.\n",
    "\n",
    "a=input('enter any decimal base number: ')\n",
    "print('ASCII value of {} is {}'.format(a,ord(a)))"
   ]
  },
  {
   "cell_type": "code",
   "execution_count": 44,
   "id": "fb53153a",
   "metadata": {},
   "outputs": [
    {
     "name": "stdout",
     "output_type": "stream",
     "text": [
      "enter first number: 4\n",
      "enter second number: 8\n",
      "enter operator \" + - * / \" : /\n",
      "0.5\n"
     ]
    }
   ],
   "source": [
    "#Q5 calculator\n",
    "\n",
    "a=int(input('enter first number: '))\n",
    "b=int(input('enter second number: '))\n",
    "c=input('enter operator \" + - * / \" : ')\n",
    "if c=='+':\n",
    "    print(a+b)\n",
    "if c=='-':\n",
    "    if a>b:\n",
    "        print(a-b)\n",
    "    else:\n",
    "        print(b-a)\n",
    "elif c=='*':\n",
    "    print(b*a)\n",
    "elif c=='/':\n",
    "    if b==0:\n",
    "        print('divisible by zero error change value of second number except zero')\n",
    "    else:\n",
    "        print(a/b)\n",
    "else:\n",
    "    print('operation is not clear')"
   ]
  },
  {
   "cell_type": "code",
   "execution_count": null,
   "id": "bfbf0854",
   "metadata": {},
   "outputs": [],
   "source": []
  }
 ],
 "metadata": {
  "kernelspec": {
   "display_name": "Python 3 (ipykernel)",
   "language": "python",
   "name": "python3"
  },
  "language_info": {
   "codemirror_mode": {
    "name": "ipython",
    "version": 3
   },
   "file_extension": ".py",
   "mimetype": "text/x-python",
   "name": "python",
   "nbconvert_exporter": "python",
   "pygments_lexer": "ipython3",
   "version": "3.9.12"
  }
 },
 "nbformat": 4,
 "nbformat_minor": 5
}
