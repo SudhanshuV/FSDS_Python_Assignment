{
 "cells": [
  {
   "cell_type": "code",
   "execution_count": 1,
   "id": "74e2625f",
   "metadata": {},
   "outputs": [
    {
     "name": "stdout",
     "output_type": "stream",
     "text": [
      "enter distance in KM: 10\n",
      "Equivalent distance in miles will be 6.21371\n"
     ]
    }
   ],
   "source": [
    "#Q1\n",
    "\n",
    "a=int(input('enter distance in KM: '))\n",
    "print('Equivalent distance in miles will be {} miles'.format(a*0.621371))"
   ]
  },
  {
   "cell_type": "code",
   "execution_count": 4,
   "id": "45a56ca2",
   "metadata": {},
   "outputs": [
    {
     "name": "stdout",
     "output_type": "stream",
     "text": [
      "enter celsius measurement \"°C\": 37\n",
      "Equivalent fahrenheit measurement will be 98.6 °F\n"
     ]
    }
   ],
   "source": [
    "#Q2\n",
    "\n",
    "a=int(input('enter celsius measurement \"°C\": '))\n",
    "print('Equivalent fahrenheit measurement will be {} °F'.format((a * 9/5) + 32))"
   ]
  },
  {
   "cell_type": "code",
   "execution_count": 7,
   "id": "2a086c63",
   "metadata": {},
   "outputs": [
    {
     "name": "stdout",
     "output_type": "stream",
     "text": [
      "enter Year: 2022\n",
      "                                  2022\n",
      "\n",
      "      January                   February                   March\n",
      "Mo Tu We Th Fr Sa Su      Mo Tu We Th Fr Sa Su      Mo Tu We Th Fr Sa Su\n",
      "                1  2          1  2  3  4  5  6          1  2  3  4  5  6\n",
      " 3  4  5  6  7  8  9       7  8  9 10 11 12 13       7  8  9 10 11 12 13\n",
      "10 11 12 13 14 15 16      14 15 16 17 18 19 20      14 15 16 17 18 19 20\n",
      "17 18 19 20 21 22 23      21 22 23 24 25 26 27      21 22 23 24 25 26 27\n",
      "24 25 26 27 28 29 30      28                        28 29 30 31\n",
      "31\n",
      "\n",
      "       April                      May                       June\n",
      "Mo Tu We Th Fr Sa Su      Mo Tu We Th Fr Sa Su      Mo Tu We Th Fr Sa Su\n",
      "             1  2  3                         1             1  2  3  4  5\n",
      " 4  5  6  7  8  9 10       2  3  4  5  6  7  8       6  7  8  9 10 11 12\n",
      "11 12 13 14 15 16 17       9 10 11 12 13 14 15      13 14 15 16 17 18 19\n",
      "18 19 20 21 22 23 24      16 17 18 19 20 21 22      20 21 22 23 24 25 26\n",
      "25 26 27 28 29 30         23 24 25 26 27 28 29      27 28 29 30\n",
      "                          30 31\n",
      "\n",
      "        July                     August                  September\n",
      "Mo Tu We Th Fr Sa Su      Mo Tu We Th Fr Sa Su      Mo Tu We Th Fr Sa Su\n",
      "             1  2  3       1  2  3  4  5  6  7                1  2  3  4\n",
      " 4  5  6  7  8  9 10       8  9 10 11 12 13 14       5  6  7  8  9 10 11\n",
      "11 12 13 14 15 16 17      15 16 17 18 19 20 21      12 13 14 15 16 17 18\n",
      "18 19 20 21 22 23 24      22 23 24 25 26 27 28      19 20 21 22 23 24 25\n",
      "25 26 27 28 29 30 31      29 30 31                  26 27 28 29 30\n",
      "\n",
      "      October                   November                  December\n",
      "Mo Tu We Th Fr Sa Su      Mo Tu We Th Fr Sa Su      Mo Tu We Th Fr Sa Su\n",
      "                1  2          1  2  3  4  5  6                1  2  3  4\n",
      " 3  4  5  6  7  8  9       7  8  9 10 11 12 13       5  6  7  8  9 10 11\n",
      "10 11 12 13 14 15 16      14 15 16 17 18 19 20      12 13 14 15 16 17 18\n",
      "17 18 19 20 21 22 23      21 22 23 24 25 26 27      19 20 21 22 23 24 25\n",
      "24 25 26 27 28 29 30      28 29 30                  26 27 28 29 30 31\n",
      "31\n",
      "\n"
     ]
    }
   ],
   "source": [
    "#Q3\n",
    "\n",
    "import calendar as c\n",
    "\n",
    "a=int(input('enter Year: '))\n",
    "#b=int(input('enter Month: '))\n",
    "print(c.calendar(2022))"
   ]
  },
  {
   "cell_type": "code",
   "execution_count": 9,
   "id": "dcae14d4",
   "metadata": {},
   "outputs": [
    {
     "name": "stdout",
     "output_type": "stream",
     "text": [
      "enter coffecient of X^2 : 12\n",
      "enter coffecient of X^1 : 43\n",
      "enter coffecient of X^0 : 87\n",
      "first root will be (-1.7916666666666667+2.009957849198723j) and second root will be (-1.7916666666666667-2.009957849198723j)\n"
     ]
    }
   ],
   "source": [
    "#Q4\n",
    "\n",
    "a=int(input('enter coffecient of X^2 : '))\n",
    "b=int(input('enter coffecient of X^1 : '))\n",
    "c=int(input('enter coffecient of X^0 : '))\n",
    "x1= (-b+((b*b)-4*a*c)**(1/2))/(2*a)\n",
    "x2= (-b-((b*b)-4*a*c)**(1/2))/(2*a)\n",
    "print('first root will be {} and second root will be {}'.format(x1,x2))"
   ]
  },
  {
   "cell_type": "code",
   "execution_count": 10,
   "id": "9249b658",
   "metadata": {},
   "outputs": [
    {
     "name": "stdout",
     "output_type": "stream",
     "text": [
      "enter value of a : 23\n",
      "enter value of b : 67\n",
      "a stores : 67 and b stores : 23\n"
     ]
    }
   ],
   "source": [
    "#Q5\n",
    "\n",
    "a=int(input('enter value of a : '))\n",
    "b=int(input('enter value of b : '))\n",
    "a=a+b         # a=5 b=4------>  a=9 b=4\n",
    "b=a-b         # b=5 a=9\n",
    "a=a-b\n",
    "print('a stores : {} and b stores : {}'.format(a,b))"
   ]
  }
 ],
 "metadata": {
  "kernelspec": {
   "display_name": "Python 3 (ipykernel)",
   "language": "python",
   "name": "python3"
  },
  "language_info": {
   "codemirror_mode": {
    "name": "ipython",
    "version": 3
   },
   "file_extension": ".py",
   "mimetype": "text/x-python",
   "name": "python",
   "nbconvert_exporter": "python",
   "pygments_lexer": "ipython3",
   "version": "3.9.12"
  }
 },
 "nbformat": 4,
 "nbformat_minor": 5
}
